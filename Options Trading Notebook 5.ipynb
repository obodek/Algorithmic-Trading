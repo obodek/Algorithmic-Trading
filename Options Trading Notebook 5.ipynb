{
 "cells": [
  {
   "cell_type": "markdown",
   "metadata": {},
   "source": [
    "# Options_Trading_5"
   ]
  },
  {
   "cell_type": "code",
   "execution_count": 1,
   "metadata": {},
   "outputs": [],
   "source": [
    "from option import Option"
   ]
  },
  {
   "cell_type": "markdown",
   "metadata": {},
   "source": [
    "For this assignment you can use the functions in the black_scholes.py module, which should be included with this assignment."
   ]
  },
  {
   "cell_type": "code",
   "execution_count": 2,
   "metadata": {},
   "outputs": [],
   "source": [
    "import black_scholes as bs"
   ]
  },
  {
   "cell_type": "markdown",
   "metadata": {},
   "source": [
    "### Dummy data"
   ]
  },
  {
   "cell_type": "code",
   "execution_count": 3,
   "metadata": {},
   "outputs": [],
   "source": [
    "call = Option('call', 1, 100)\n",
    "put = Option('put', 0.5, 110)\n",
    "\n",
    "option_positions = [(call, 100), (put, -50), (call, 50), (put, -100), (call, -50), (put, +200) ]\n",
    "\n",
    "S = 100  # Underlying price\n",
    "r = 0  # Interest rate\n",
    "sigma = 0.2  # Volatility\n",
    "\n",
    "from scipy import stats\n",
    "import numpy as np\n",
    "\n",
    "_norm_cdf = stats.norm(0, 1).cdf\n",
    "_norm_pdf = stats.norm(0, 1).pdf\n",
    "\n",
    "\n",
    "def _d1(S, K, T, r, sigma):\n",
    "    return (np.log(S / K) + (r + 0.5 * sigma ** 2) * T) / (sigma * np.sqrt(T))\n",
    "\n",
    "\n",
    "def _d2(S, K, T, r, sigma):\n",
    "    return _d1(S, K, T, r, sigma) - sigma * np.sqrt(T)\n",
    "\n",
    "\n",
    "def call_value(S, K, T, r, sigma):\n",
    "    return S * _norm_cdf(_d1(S, K, T, r, sigma)) - K * np.exp(-r * T) * _norm_cdf(_d2(S, K, T, r, sigma))\n",
    "\n",
    "def put_value(S, K, T, r, sigma):\n",
    "    return np.exp(-r * T) * K * _norm_cdf(-_d2(S, K, T, r, sigma)) - S * _norm_cdf(-_d1(S, K, T, r, sigma))\n",
    "\n",
    "def call_delta(S, K, T, r, sigma):\n",
    "    return _norm_cdf(_d1(S, K, T, r, sigma))\n",
    "\n",
    "def put_delta(S, K, T, r, sigma):\n",
    "    return call_delta(S, K, T, r, sigma) - 1\n",
    "\n",
    "def call_vega(S, K, T, r, sigma):\n",
    "    return S * _norm_pdf(_d1(S, K, T, r, sigma)) * np.sqrt(T)\n",
    "\n",
    "def put_vega(S, K, T, r, sigma):\n",
    "    return call_vega(S, K, T, r, sigma)"
   ]
  },
  {
   "cell_type": "code",
   "execution_count": 4,
   "metadata": {},
   "outputs": [
    {
     "data": {
      "text/plain": [
       "[100, 50, -50]"
      ]
     },
     "execution_count": 4,
     "metadata": {},
     "output_type": "execute_result"
    }
   ],
   "source": [
    "option_positions = [(call, 100), (put, -50), (call, 50), (put, -100), (call, -50), (put, +200) ]\n",
    "list2 = [x[1] for x in option_positions if x[0] == call]\n",
    "list2"
   ]
  },
  {
   "cell_type": "code",
   "execution_count": 5,
   "metadata": {},
   "outputs": [
    {
     "data": {
      "text/plain": [
       "100"
      ]
     },
     "execution_count": 5,
     "metadata": {},
     "output_type": "execute_result"
    }
   ],
   "source": [
    "call = Option('call', 1, 100)\n",
    "put = Option('put', 0.5, 110)\n",
    "\n",
    "call.tte\n",
    "call.strike"
   ]
  },
  {
   "cell_type": "markdown",
   "metadata": {},
   "source": [
    "### Option delta\n",
    "\n",
    "Write a function that calculates the black-scholes option delta given an option and market data.\n",
    "\n",
    "input: Option, S, r, sigma\n",
    "\n",
    "output: option delta"
   ]
  },
  {
   "cell_type": "code",
   "execution_count": 6,
   "metadata": {},
   "outputs": [
    {
     "data": {
      "text/plain": [
       "-0.7268235059774313"
      ]
     },
     "execution_count": 6,
     "metadata": {},
     "output_type": "execute_result"
    }
   ],
   "source": [
    "def option_delta(option, S, r, sigma):\n",
    "    \n",
    "    if option.kind == 'call':\n",
    "        K = option.strike\n",
    "        T = option.tte\n",
    "        c_delta = call_delta(S, K, T, r, sigma)\n",
    "        return c_delta\n",
    "    \n",
    "    if option.kind == 'put':\n",
    "        K = option.strike\n",
    "        T = option.tte\n",
    "        p_delta = put_delta(S, K, T, r, sigma)\n",
    "        return p_delta\n",
    "\n",
    "option_delta(put, S, r, sigma)"
   ]
  },
  {
   "cell_type": "markdown",
   "metadata": {},
   "source": [
    "### Total Delta Position\n",
    "\n",
    "Write a function that calculates the total delta exposure of your position.\n",
    "\n",
    "Your function is given a list of options with a corresponding position.\n",
    "Calculate the delta of the total position.\n",
    "\n",
    "\n",
    "input: option_positions (list of (Option, lots)), S, r, Sigma\n",
    "\n",
    "output: Total delta position"
   ]
  },
  {
   "cell_type": "code",
   "execution_count": 7,
   "metadata": {},
   "outputs": [
    {
     "data": {
      "text/plain": [
       "17.641608428831347"
      ]
     },
     "execution_count": 7,
     "metadata": {},
     "output_type": "execute_result"
    }
   ],
   "source": [
    "def total_delta(option_positions, S, r, sigma):  \n",
    "    \n",
    "    total_position_calls = 0 \n",
    "    total_position_puts = 0\n",
    "    \n",
    "    for kind in option_positions:\n",
    "        if kind[0].kind == 'call':\n",
    "            K = kind[0].strike\n",
    "            T = kind[0].tte\n",
    "            c_delta = call_delta(S, K, T, r, sigma)\n",
    "            total_position_calls += kind[1]*c_delta\n",
    "        \n",
    "        if kind[0].kind == 'put':\n",
    "            K = kind[0].strike\n",
    "            T = kind[0].tte\n",
    "            p_delta = put_delta(S, K, T, r, sigma)\n",
    "            total_position_puts += kind[1]*p_delta\n",
    "            \n",
    "    return total_position_calls + total_position_puts\n",
    "\n",
    "total_delta(option_positions, S, r, sigma)"
   ]
  },
  {
   "cell_type": "markdown",
   "metadata": {},
   "source": [
    "### Delta hedge options\n",
    "\n",
    "Write a function that calculates the number of stocks you need to buy/sell to delta hedge your option positions.\n",
    "\n",
    "Remember: you can only trade a whole number of stocks. For this exercise always round the fractional number of stocks you would ideally buy/sell towards zero.\n",
    "\n",
    "input: option_positions (list of (Option, lots)), S, r, Sigma\n",
    "\n",
    "output: Number of stocks to buy (positive) or sell (negative)"
   ]
  },
  {
   "cell_type": "code",
   "execution_count": 9,
   "metadata": {},
   "outputs": [
    {
     "data": {
      "text/plain": [
       "-18.0"
      ]
     },
     "execution_count": 9,
     "metadata": {},
     "output_type": "execute_result"
    }
   ],
   "source": [
    "def hedge(option_positions, S, r, sigma):\n",
    "    #buy call = sell stock => positive delta\n",
    "    #buy put = buy stock => negative delta \n",
    "    delta = total_delta(option_positions, S, r, sigma)\n",
    "\n",
    "    total_position_calls = 0 \n",
    "    total_position_puts = 0\n",
    "    \n",
    "    for kind in option_positions:\n",
    "        if kind[0].kind == 'call':\n",
    "            K = kind[0].strike\n",
    "            T = kind[0].tte\n",
    "            c_delta = call_delta(S, K, T, r, sigma)\n",
    "            total_position_calls += kind[1]*c_delta\n",
    "            \n",
    "        \n",
    "        if kind[0].kind == 'put':\n",
    "            K = kind[0].strike\n",
    "            T = kind[0].tte\n",
    "            p_delta = put_delta(S, K, T, r, sigma)\n",
    "            total_position_puts += kind[1]*p_delta\n",
    "            \n",
    "    return round((total_position_calls + total_position_puts) * -1)       \n",
    "hedge(option_positions, S, r, sigma)            "
   ]
  },
  {
   "cell_type": "markdown",
   "metadata": {},
   "source": [
    "### Option gamma\n",
    "\n",
    "Write a function that calculates the black-scholes option gamma given an option and market data.\n",
    "\n",
    "input: Option, S, r, sigma\n",
    "\n",
    "output: option gamma"
   ]
  },
  {
   "cell_type": "code",
   "execution_count": 57,
   "metadata": {},
   "outputs": [
    {
     "data": {
      "text/plain": [
       "0.01984762737385059"
      ]
     },
     "execution_count": 57,
     "metadata": {},
     "output_type": "execute_result"
    }
   ],
   "source": [
    "import math \n",
    "def option_gamma(option, S, r, sigma):\n",
    "    \n",
    "    if option.kind == 'call':\n",
    "        K = option.strike\n",
    "        T = option.tte\n",
    "        d1 = _d1(S, K, T, r, sigma)\n",
    "        #print(d1)\n",
    "        d1_numerator = math.exp(-(d1**2)/2)\n",
    "        #print(d1_numerator)\n",
    "        d1_denominator = np.sqrt((2*math.pi))\n",
    "        __d1 = d1_numerator/d1_denominator\n",
    "        result = __d1 / (S * (sigma * np.sqrt(T)))\n",
    "        return result \n",
    "    if option.kind == 'put':\n",
    "        K = option.strike\n",
    "        T = option.tte\n",
    "        d1 = _d1(S, K, T, r, sigma)\n",
    "        d1_numerator = math.exp(-(d1**2)/2)\n",
    "        d1_denominator = np.sqrt((2*math.pi))\n",
    "        __dd = d1_numerator/d1_denominator\n",
    "        result = __dd / (S * (sigma * np.sqrt(T)))\n",
    "        return result\n",
    "    \n",
    "option_gamma(call, S, r, sigma)"
   ]
  },
  {
   "cell_type": "markdown",
   "metadata": {},
   "source": [
    "### Hedge (Gamma-Delta) exposures\n",
    "\n",
    "Write a function that determines the position you need to take in option_a and option_b to hedge the given delta and gamma exposure.\n",
    "For this exercise you are allowed to trade a fractional number of lots.\n",
    "\n",
    "Example:\n",
    "    option_a: delta: 0.2, gamma: 0.4\n",
    "    option_b: delta: 0.3, gamma: 0.9\n",
    "    You have a current delta exposure of -0.6 and a gamma exposure of -1.5.\n",
    "    You can hedge this exposure by buying 1 lot of option_b and buying 3/2 lots of option_a.\n",
    "    Your function should return (3/2, 1)\n",
    "\n",
    "\n",
    "input: Option, Option, delta, gamma, S, r, sigma\n",
    "\n",
    "output: Lots of a, lots of b (positive if buying, negative if selling)"
   ]
  },
  {
   "cell_type": "code",
   "execution_count": 67,
   "metadata": {},
   "outputs": [
    {
     "data": {
      "text/plain": [
       "(27.6614746063411, 42.80070118360622)"
      ]
     },
     "execution_count": 67,
     "metadata": {},
     "output_type": "execute_result"
    }
   ],
   "source": [
    "def hedge_exposures(option_a, option_b, delta, gamma, S, r, sigma):\n",
    "    \n",
    "    delta_a = option_delta(option_a,S,r,sigma)\n",
    "    gamma_a = option_gamma(option_a,S,r,sigma)\n",
    "    \n",
    "    delta_b = option_delta(option_b,S,r,sigma)\n",
    "    gamma_b = option_gamma(option_b,S,r,sigma)\n",
    "    \n",
    "    beta = (delta_a*gamma - gamma_a*delta)/(delta_a*gamma_b-gamma_a*delta_b)\n",
    "    alpha = (delta-beta*delta_b)/delta_a\n",
    "    \n",
    "    return -alpha, -beta\n",
    "\n",
    "hedge_exposures(put, call, -3, -1.5, S, r, sigma)"
   ]
  }
 ],
 "metadata": {
  "kernelspec": {
   "display_name": "Python 3",
   "language": "python",
   "name": "python3"
  },
  "language_info": {
   "codemirror_mode": {
    "name": "ipython",
    "version": 3
   },
   "file_extension": ".py",
   "mimetype": "text/x-python",
   "name": "python",
   "nbconvert_exporter": "python",
   "pygments_lexer": "ipython3",
   "version": "3.7.4"
  }
 },
 "nbformat": 4,
 "nbformat_minor": 2
}
