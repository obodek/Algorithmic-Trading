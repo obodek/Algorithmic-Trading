{
 "cells": [
  {
   "cell_type": "markdown",
   "metadata": {},
   "source": [
    "# Options_Trading_1\n"
   ]
  },
  {
   "cell_type": "markdown",
   "metadata": {},
   "source": [
    "### Tips\n",
    "In some exercises you will be asked to return None. Both functions below return this value.\n",
    "Note that jupyter doesn't print this value."
   ]
  },
  {
   "cell_type": "code",
   "execution_count": 1,
   "metadata": {},
   "outputs": [],
   "source": [
    "def explicit():\n",
    "    return None\n",
    "\n",
    "def implicit():\n",
    "    return\n",
    "\n",
    "explicit()"
   ]
  },
  {
   "cell_type": "markdown",
   "metadata": {},
   "source": [
    "### Dummy data"
   ]
  },
  {
   "cell_type": "code",
   "execution_count": 2,
   "metadata": {},
   "outputs": [],
   "source": [
    "from client.info_messages import PriceBook, PriceVolume"
   ]
  },
  {
   "cell_type": "code",
   "execution_count": 3,
   "metadata": {},
   "outputs": [
    {
     "data": {
      "text/plain": [
       "[]"
      ]
     },
     "execution_count": 3,
     "metadata": {},
     "output_type": "execute_result"
    }
   ],
   "source": [
    "# Empty pricebook\n",
    "empty = PriceBook()\n",
    "empty.instrument_id = 'AAPL'\n",
    "empty.asks"
   ]
  },
  {
   "cell_type": "code",
   "execution_count": 4,
   "metadata": {},
   "outputs": [],
   "source": [
    "pb = PriceBook()\n",
    "pb.instrument_id = 'AAPL'\n",
    "pb.bids = [\n",
    "    PriceVolume(98, 120),\n",
    "    PriceVolume(99, 100),\n",
    "]\n",
    "pb.asks = [\n",
    "    PriceVolume(101, 100),\n",
    "    PriceVolume(102, 110)\n",
    "]"
   ]
  },
  {
   "cell_type": "code",
   "execution_count": 5,
   "metadata": {},
   "outputs": [
    {
     "data": {
      "text/plain": [
       "98"
      ]
     },
     "execution_count": 5,
     "metadata": {},
     "output_type": "execute_result"
    }
   ],
   "source": [
    "pb.bids[0].price"
   ]
  },
  {
   "cell_type": "code",
   "execution_count": 6,
   "metadata": {},
   "outputs": [
    {
     "data": {
      "text/plain": [
       "120"
      ]
     },
     "execution_count": 6,
     "metadata": {},
     "output_type": "execute_result"
    }
   ],
   "source": [
    "pb.bids[0].volume"
   ]
  },
  {
   "cell_type": "code",
   "execution_count": 7,
   "metadata": {},
   "outputs": [
    {
     "data": {
      "text/plain": [
       "101"
      ]
     },
     "execution_count": 7,
     "metadata": {},
     "output_type": "execute_result"
    }
   ],
   "source": [
    "pb.asks[0].price"
   ]
  },
  {
   "cell_type": "code",
   "execution_count": 8,
   "metadata": {},
   "outputs": [
    {
     "data": {
      "text/plain": [
       "100"
      ]
     },
     "execution_count": 8,
     "metadata": {},
     "output_type": "execute_result"
    }
   ],
   "source": [
    "pb.asks[0].volume"
   ]
  },
  {
   "cell_type": "markdown",
   "metadata": {},
   "source": [
    "### Best bid price \n",
    "\n",
    "Write a function that returns the price of the best bid in the price book.\n",
    "\n",
    "A bid is an offer to buy. If you want to sell, the most attractive bid is the one with the highest price.\n",
    "\n",
    "input: PriceBook\n",
    "\n",
    "output: price or `None` if there are no bids."
   ]
  },
  {
   "cell_type": "code",
   "execution_count": 14,
   "metadata": {},
   "outputs": [
    {
     "name": "stdout",
     "output_type": "stream",
     "text": [
      "99\n"
     ]
    }
   ],
   "source": [
    "def best_bid_price(PriceBook):\n",
    "    \n",
    "    if PriceBook.bids == []:\n",
    "        return \n",
    "    return sorted(PriceBook.bids, key = lambda x: x.price)[-1].price\n",
    "    \n",
    "print(best_bid_price(pb))"
   ]
  },
  {
   "cell_type": "markdown",
   "metadata": {},
   "source": [
    "### Best ask volume\n",
    "\n",
    "Write a function that returns the volume of the best ask in the price book.\n",
    "\n",
    "An ask is an offer to sell. If you want to buy, the most attractive ask is the one with the lowest price.\n",
    "\n",
    "input: PriceBook\n",
    "\n",
    "output: volume or `None` if there are no asks."
   ]
  },
  {
   "cell_type": "code",
   "execution_count": 46,
   "metadata": {},
   "outputs": [
    {
     "name": "stdout",
     "output_type": "stream",
     "text": [
      "100\n"
     ]
    }
   ],
   "source": [
    "def best_ask_volume(PriceBook):\n",
    "    \n",
    "    if PriceBook.asks == []:\n",
    "        return \n",
    "    return sorted(PriceBook.asks, key = lambda x: x.price)[0].volume\n",
    "    \n",
    "print(best_ask_volume(pb))"
   ]
  },
  {
   "cell_type": "markdown",
   "metadata": {},
   "source": [
    "### Mid price\n",
    "Write a function that returns the mid price of the order book.\n",
    "\n",
    "The mid price is the price equidistant from the best bid price and the best ask price.\n",
    "\n",
    "input: PriceBook\n",
    "\n",
    "output: price\n",
    "output: volume or `None` if one or both sides of the order book are empty."
   ]
  },
  {
   "cell_type": "code",
   "execution_count": 52,
   "metadata": {},
   "outputs": [
    {
     "name": "stdout",
     "output_type": "stream",
     "text": [
      "100.0\n"
     ]
    }
   ],
   "source": [
    "# first define best ask price = ? \n",
    "\n",
    "def best_ask_price(PriceBook):\n",
    "    \n",
    "    if PriceBook.asks == []:\n",
    "        return \n",
    "    return sorted(PriceBook.asks, key = lambda x: x.price)[0].price\n",
    "\n",
    "\n",
    "def mid_price(PriceBook): \n",
    "    \n",
    "    if not best_ask_price(PriceBook) or not best_bid_price(PriceBook):\n",
    "        return\n",
    "    else:\n",
    "        mid_price = (best_bid_price(PriceBook) + best_ask_price(PriceBook)) / 2\n",
    "        return mid_price\n",
    "\n",
    "print(mid_price(pb))"
   ]
  },
  {
   "cell_type": "markdown",
   "metadata": {},
   "source": [
    "### Orderbook vwap\n",
    "\n",
    "Write a function that returns the vwap of the order book. Use only the first level of the order book (the best bid and best ask).\n",
    "\n",
    "The vwap of the orderbook is the volume weighted average price of the best bid price and the best ask price, where you weigh the best bid price with the volume of the best ask and vice versa.\n",
    "\n",
    "Imaging you have the following order book: there is only 1 offer to sell @ 101 and there are 999 offers to buy @ 100. The midprice of this book is 100.5, but given that there is a lot more interest in buying 100 than there is selling 101, the \"real\" price would be closer to 101. In this case the vwap would be 100.999\n",
    "\n",
    "```python\n",
    "(1 * 100 + 999 * 101) / 1000\n",
    "```\n",
    "\n",
    "input: PriceBook\n",
    "\n",
    "output: volume or `None` if one or both sides of the order book are empty."
   ]
  },
  {
   "cell_type": "code",
   "execution_count": 56,
   "metadata": {},
   "outputs": [
    {
     "name": "stdout",
     "output_type": "stream",
     "text": [
      "100.0\n"
     ]
    }
   ],
   "source": [
    "# first define best_bid_volume \n",
    "\n",
    "def best_bid_volume(PriceBook):\n",
    "\n",
    "    if PriceBook.bids == []:\n",
    "        return \n",
    "    return sorted(PriceBook.bids, key = lambda x: x.price)[-1].volume\n",
    "\n",
    "def vwap(PriceBook):\n",
    "    \n",
    "    if not best_ask_volume(PriceBook) or not best_bid_volume(PriceBook):\n",
    "        return\n",
    "    else:\n",
    "        vwap = (best_bid_price(PriceBook)*best_ask_volume(PriceBook) + best_ask_price(PriceBook)*best_bid_volume(PriceBook)) / (best_ask_volume(PriceBook) + best_bid_volume(PriceBook))\n",
    "        return vwap \n",
    "    \n",
    "print(vwap(pb))"
   ]
  }
 ],
 "metadata": {
  "kernelspec": {
   "display_name": "Python 3",
   "language": "python",
   "name": "python3"
  },
  "language_info": {
   "codemirror_mode": {
    "name": "ipython",
    "version": 3
   },
   "file_extension": ".py",
   "mimetype": "text/x-python",
   "name": "python",
   "nbconvert_exporter": "python",
   "pygments_lexer": "ipython3",
   "version": "3.7.4"
  }
 },
 "nbformat": 4,
 "nbformat_minor": 2
}
