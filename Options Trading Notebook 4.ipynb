{
 "cells": [
  {
   "cell_type": "markdown",
   "metadata": {},
   "source": [
    "# Python course 6\n",
    "\n",
    "Submit this notebook to codegrade as python_course_6.ipynb.\n",
    "\n",
    "Alternatively, copy the function from the notebook into a script and submit as python_course_6.py.\n",
    "\n",
    "Make sure your notebook actually runs (kernel > restart & run all) without errors before submitting."
   ]
  },
  {
   "cell_type": "markdown",
   "metadata": {},
   "source": [
    "Make sure to place the client folder (unzippped) in the same folder as this notebook.\n",
    "Also make sure you place the option.py file (included in the assignment) in the same folder as the notebook."
   ]
  },
  {
   "cell_type": "code",
   "execution_count": 1,
   "metadata": {},
   "outputs": [],
   "source": [
    "from option import Option"
   ]
  },
  {
   "cell_type": "markdown",
   "metadata": {},
   "source": [
    "For this assignment you can use the functions in the black_scholes.py module, which should be included with this assignment."
   ]
  },
  {
   "cell_type": "code",
   "execution_count": 2,
   "metadata": {},
   "outputs": [],
   "source": [
    "import black_scholes as bs"
   ]
  },
  {
   "cell_type": "markdown",
   "metadata": {},
   "source": [
    "### Dummy data"
   ]
  },
  {
   "cell_type": "code",
   "execution_count": 3,
   "metadata": {},
   "outputs": [],
   "source": [
    "from client.info_messages import PriceBook, PriceVolume\n",
    "import datetime\n",
    "\n",
    "# Stock pricebook\n",
    "pb_S = PriceBook()\n",
    "pb_S.instrument_id = 'AAPL'\n",
    "pb_S.bids = [PriceVolume(99, 100)]\n",
    "pb_S.asks = [PriceVolume(101, 100)]\n",
    "\n",
    "# Option pricebook\n",
    "pb = PriceBook()\n",
    "pb.instrument_id = 'AAPL_CALL'\n",
    "pb.bids = [PriceVolume(9, 100)]\n",
    "pb.asks = [PriceVolume(10, 100)]\n",
    "\n",
    "\n",
    "call = Option('call', 1, 100)\n",
    "put = Option('put', 0.5, 110)\n",
    "\n",
    "\n",
    "S = 100  # Underlying price\n",
    "r = 0  # Interest rate\n",
    "sigma = 0.2  # Volatility\n",
    "\n",
    "import numpy as np\n",
    "option_feedcode = 'BMW-2020_12_31-140-Call'\n",
    "expiry = datetime.datetime(2020, 12, 31)\n",
    "today = datetime.date.today()\n",
    "\n",
    "def __init__(self, kind, tte, strike):\n",
    "        self.tte = tte\n",
    "        self.strike = strike\n",
    "        self.kind = kind\n",
    "\n",
    "def __repr__(self):\n",
    "    return f\"[option] kind={str(self.kind)} tte={str(self.tte)}, strike={str(self.strike)}\"\n",
    "\n",
    "def __eq__(self, other):\n",
    "    if not isinstance(other, self.__class__):\n",
    "        return NotImplemented\n",
    "    return self.tte == other.tte and self.strike == other.strike and self.kind == other.kind\n",
    "\n",
    "from scipy import stats\n",
    "import numpy as np\n",
    "\n",
    "_norm_cdf = stats.norm(0, 1).cdf\n",
    "_norm_pdf = stats.norm(0, 1).pdf\n",
    "\n",
    "\n",
    "def _d1(S, K, T, r, sigma):\n",
    "    return (np.log(S / K) + (r + 0.5 * sigma ** 2) * T) / (sigma * np.sqrt(T))\n",
    "\n",
    "\n",
    "def _d2(S, K, T, r, sigma):\n",
    "    return _d1(S, K, T, r, sigma) - sigma * np.sqrt(T)\n",
    "\n",
    "\n",
    "def call_value(S, K, T, r, sigma):\n",
    "    return S * _norm_cdf(_d1(S, K, T, r, sigma)) - K * np.exp(-r * T) * _norm_cdf(_d2(S, K, T, r, sigma))\n",
    "\n",
    "def put_value(S, K, T, r, sigma):\n",
    "    return np.exp(-r * T) * K * _norm_cdf(-_d2(S, K, T, r, sigma)) - S * _norm_cdf(-_d1(S, K, T, r, sigma))\n",
    "\n",
    "def is_business_day(date):\n",
    "    return bool(len(pd.bdate_range(date, date)))\n",
    "\n",
    "def best_bid_price(PriceBook):\n",
    "    \n",
    "    if PriceBook.bids == []:\n",
    "        return \n",
    "    return sorted(PriceBook.bids, key = lambda x: x.price)[-1].price\n",
    "\n",
    "def best_ask_price(PriceBook):\n",
    "    \n",
    "    if PriceBook.asks == []:\n",
    "        return \n",
    "    return sorted(PriceBook.asks, key = lambda x: x.price)[0].price\n",
    "\n"
   ]
  },
  {
   "cell_type": "code",
   "execution_count": 4,
   "metadata": {},
   "outputs": [
    {
     "data": {
      "text/plain": [
       "100"
      ]
     },
     "execution_count": 4,
     "metadata": {},
     "output_type": "execute_result"
    }
   ],
   "source": [
    "call.kind  # call or put\n",
    "call.tte  # time to expiry (years)\n",
    "call.strike  # strike price"
   ]
  },
  {
   "cell_type": "markdown",
   "metadata": {},
   "source": [
    "### Parsing option feedcode\n",
    "\n",
    "Write a function that parses an option feedcode to returns its information.\n",
    "\n",
    "The feedcode has the following format:\n",
    "    {instrument_id}-{expiry_date}-{strike}-{put_or_call}\n",
    "\n",
    "The expiry date has the format: yyyy_mm_dd. The strike will be a integer, and put_or_call will be ```'Put'``` or ```'Call'```.\n",
    "\n",
    "You should output each part of the info separately. See output below for what you should return.\n",
    "\n",
    "Example\n",
    "```python\n",
    "'BMW-2020_12_31-140-Call'\n",
    "```\n",
    "- instrument_id: ```'BMW'```\n",
    "- expiry_date: ```dt.date(2020, 12, 31)```\n",
    "- strike: ```140```\n",
    "- put_or_call: ```'call'```\n",
    "\n",
    "input: option_feedcode\n",
    "\n",
    "output: instrument_id (str), expiry_date (dt.date), strike (int), put_or_call (str: ```'put'``` or ```'call'```, all lowercase)"
   ]
  },
  {
   "cell_type": "code",
   "execution_count": 5,
   "metadata": {},
   "outputs": [
    {
     "data": {
      "text/plain": [
       "('BMW', datetime.date(2020, 12, 31), 140, 'call')"
      ]
     },
     "execution_count": 5,
     "metadata": {},
     "output_type": "execute_result"
    }
   ],
   "source": [
    "def parse_feedcode(option_feedcode):\n",
    "    \n",
    "    list_ = option_feedcode.split('-')\n",
    "    return (list_[0],\n",
    "            datetime.datetime.strptime(list_[1],'%Y_%m_%d').date(),\n",
    "            int(list_[2]),\n",
    "            list_[3].lower()\n",
    "    )  \n",
    "parse_feedcode(option_feedcode)"
   ]
  },
  {
   "cell_type": "markdown",
   "metadata": {},
   "source": [
    "### Calculate time to expiry\n",
    "\n",
    "Write a function that calculates time to expiry (in calendar time and business time) in years given today's date and the date of expiry.\n",
    "\n",
    "You can assume that the current time is 12:00 (noon) and the option also expires at 12:00 (noon).\n",
    "\n",
    "The convention for calendar time is that there are 365 days in a year, so the time to expiry in years = number of days to expiry / 365.\n",
    "\n",
    "The convention for business time is that there are 256 business days in a year, so the time to expiry in years = number of business days to expiry / 256.\n",
    "For this exercise all days are business days except for Saturdays and Sundays. The expiry will always be a business day but today can be a non-business day.\n",
    "If today is non-business day you have to account for the half day i.e. if the option expires on Monday and today is the Saturday before, the time to expiry would be 0.5 / 256 as there would only be half a day left.\n",
    "\n",
    "input: today (dt.date), expiry (dt.date)\n",
    "\n",
    "output: time_to_expiry_act365 (float), time_to_expiry_bus256 (float)"
   ]
  },
  {
   "cell_type": "code",
   "execution_count": 6,
   "metadata": {},
   "outputs": [
    {
     "data": {
      "text/plain": [
       "(0.7726027397260274, 0.7890625)"
      ]
     },
     "execution_count": 6,
     "metadata": {},
     "output_type": "execute_result"
    }
   ],
   "source": [
    "def calculate_tte(today, expiry):\n",
    "   \n",
    "    result = None  \n",
    "    expiry = expiry.date() if type(expiry) == datetime.datetime else expiry\n",
    "    today = today.date() if type(today) == datetime.datetime else today\n",
    "    time_to_exp = expiry - today\n",
    "    #print(time_to_exp)\n",
    "    normal_time = time_to_exp.days/365\n",
    "    #print(normal_time)\n",
    "    if datetime.date.weekday(today) == 5:      \n",
    "        exp_days = (expiry - today)\n",
    "        expiry_in_bd = ((exp_days.days -1.5) / 256) \n",
    "\n",
    "\n",
    "    elif datetime.date.weekday(today) == 6:   \n",
    "        exp_days = ( expiry - today)\n",
    "        expiry_in_bd = ((exp_days.days -0.5)/ 256) \n",
    "\n",
    "    else:\n",
    "        exp_days = np.busday_count(today,expiry)\n",
    "        expiry_in_bd = (exp_days / 256)\n",
    "            \n",
    "    return normal_time , expiry_in_bd\n",
    "\n",
    "\n",
    "calculate_tte(today, expiry)"
   ]
  },
  {
   "cell_type": "markdown",
   "metadata": {},
   "source": [
    "\n",
    "### Option price\n",
    "\n",
    "Write a function that calculates the black-scholes option price given an option and market data.\n",
    "\n",
    "input: Option, S, r, sigma\n",
    "\n",
    "output: option price\n"
   ]
  },
  {
   "cell_type": "code",
   "execution_count": 7,
   "metadata": {},
   "outputs": [
    {
     "data": {
      "text/plain": [
       "12.21124643357308"
      ]
     },
     "execution_count": 7,
     "metadata": {},
     "output_type": "execute_result"
    }
   ],
   "source": [
    "def option_price(option, S, r, sigma):\n",
    "    \n",
    "    \n",
    "    if option.kind == 'call':\n",
    "        K = option.strike\n",
    "        T = option.tte\n",
    "        callx = bs.call_value(S, K, T, r, sigma)\n",
    "        return callx\n",
    "    \n",
    "    if option.kind == 'put':\n",
    "        K = option.strike\n",
    "        T = option.tte\n",
    "        putx = bs.put_value(S, K, T, r, sigma)\n",
    "        return putx\n",
    "\n",
    "option_price(put, S, r, sigma)"
   ]
  },
  {
   "cell_type": "markdown",
   "metadata": {},
   "source": [
    "### Option opportunity\n",
    "\n",
    "Write a function that checks a given option PriceBook for arbitrage.\n",
    "\n",
    "You are given all inputs to calculate the price of the given option. Check the given option pricebook if there is an opportunity to trade on this price.\n",
    "\n",
    "input: PriceBook, Option, S, r, sigma\n",
    "\n",
    "output: bool (True if there is a trading opportunity, False otherwise)"
   ]
  },
  {
   "cell_type": "code",
   "execution_count": 125,
   "metadata": {},
   "outputs": [
    {
     "data": {
      "text/plain": [
       "True"
      ]
     },
     "execution_count": 125,
     "metadata": {},
     "output_type": "execute_result"
    }
   ],
   "source": [
    "def option_opportunity(pb, option, S, r, sigma):\n",
    "    \n",
    "    option_price_cp = option_price(option, S, r, sigma)\n",
    "    value_call = best_ask_price(pb)\n",
    "    #print(value_call)\n",
    "    value_put = best_bid_price(pb)\n",
    "    #print(value_put)\n",
    "    \n",
    "    if pb.bids != [] and pb.asks != []:\n",
    "        if value_call < option_price_cp:\n",
    "            return True \n",
    "        elif value_put > option_price_cp:\n",
    "            return True\n",
    "        else:\n",
    "            return False \n",
    "    return False\n",
    "\n",
    "option_opportunity(pb, call, S, r, sigma)      "
   ]
  },
  {
   "cell_type": "markdown",
   "metadata": {},
   "source": [
    "\n",
    "### Option quotes\n",
    "\n",
    "Write a function that provides quotes (bid and ask) for the provided option given the PriceBook of the underlying.\n",
    "\n",
    "A single stock price results in a single option price. Now however, you are given an orderbook instead of a single stock price.\n",
    "Your function has to determine which price should be used to calculate the option value. The price to be used depends on what action you need to take to hedge.\n",
    "\n",
    "E.g. If the option is a call:\n",
    "    If you buy a call, you hedge by selling the stock (positive delta). So the stock price you should use to calculate the price at which you are willing to buy a call should be the price at which you can sell the stock (bid price).\n",
    "    If you sell a call, you hedge by buying the stock (positive delta). So the stock price you should use to calculate the price at which you are willing to sell a call should be the price at which you can buy the stock (ask price).\n",
    "\n",
    "For a put the situation is reversed (if you buy a put, you hedge by buying the stock (negative delta)).\n",
    "\n",
    "\n",
    "Use the correct bid and ask of the stock PriceBook to calculate your bid and ask for the option.\n",
    "\n",
    "input: Option, PriceBook, r, sigma\n",
    "\n",
    "output: option bid price, option ask price\n"
   ]
  },
  {
   "cell_type": "code",
   "execution_count": 153,
   "metadata": {},
   "outputs": [
    {
     "data": {
      "text/plain": [
       "(7.435711264888674, 8.515267758969337)"
      ]
     },
     "execution_count": 153,
     "metadata": {},
     "output_type": "execute_result"
    }
   ],
   "source": [
    "def option_quotes(option, pb_S, r, sigma):\n",
    "    \n",
    "    \n",
    "    S1 = best_bid_price(pb_S) #buy call = sell stock, sell put = sell stock \n",
    "    S2 = best_ask_price(pb_S) #sell call = buy stock, buy put = buy stock\n",
    "    #option_p = option_price(option, S, r, sigma)\n",
    "    if option.kind == 'call':\n",
    "        K = option.strike\n",
    "        T = option.tte\n",
    "        bid_price1 = bs.call_value(S1, K, T, r, sigma)\n",
    "        ask_price1 = bs.call_value(S2, K, T, r, sigma)\n",
    "        return bid_price1, ask_price1\n",
    "    \n",
    "    if option.kind == 'put':\n",
    "        K = option.strike\n",
    "        T = option.tte\n",
    "        bid_price2 = bs.put_value(S2, K, T, r, sigma)\n",
    "        ask_price2 = bs.put_value(S1, K, T, r, sigma)\n",
    "        return bid_price2, ask_price2\n",
    "    \n",
    "option_quotes(call, pb_S, r, sigma)"
   ]
  }
 ],
 "metadata": {
  "kernelspec": {
   "display_name": "Python 3",
   "language": "python",
   "name": "python3"
  },
  "language_info": {
   "codemirror_mode": {
    "name": "ipython",
    "version": 3
   },
   "file_extension": ".py",
   "mimetype": "text/x-python",
   "name": "python",
   "nbconvert_exporter": "python",
   "pygments_lexer": "ipython3",
   "version": "3.7.4"
  }
 },
 "nbformat": 4,
 "nbformat_minor": 2
}
