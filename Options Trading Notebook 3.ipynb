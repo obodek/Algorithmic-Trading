{
 "cells": [
  {
   "cell_type": "markdown",
   "metadata": {},
   "source": [
    "# Options_Trading_3\n"
   ]
  },
  {
   "cell_type": "markdown",
   "metadata": {},
   "source": [
    "### Dummy data"
   ]
  },
  {
   "cell_type": "code",
   "execution_count": 56,
   "metadata": {},
   "outputs": [],
   "source": [
    "from client.info_messages import PriceBook, PriceVolume\n",
    "\n",
    "pb_a = PriceBook()\n",
    "pb_a.instrument_id = 'AAPL'\n",
    "pb_a.bids = [PriceVolume(101, 50), PriceVolume(104, 50), PriceVolume(120, 50),PriceVolume(110, 50)]\n",
    "pb_a.asks = [PriceVolume(101, 100), PriceVolume(100, 200), PriceVolume(105, 70), PriceVolume(90, 250)]\n",
    "\n",
    "pb_b = PriceBook()\n",
    "pb_b.instrument_id = 'AAPL'\n",
    "pb_b.bids = [PriceVolume(102, 180), PriceVolume(101, 100)]\n",
    "pb_b.asks = [PriceVolume(104, 25)]\n",
    "\n",
    "cost = 0.2\n",
    "#################################################################################\n",
    "def sort_ask(pb):\n",
    "    result=None\n",
    "    if len(pb.asks)==0:\n",
    "            return result\n",
    "    sort_ask = sorted(pb.asks, key=lambda x: x.price)[:3]\n",
    "    return sort_ask\n",
    "\n",
    "def sort_bid(pb):\n",
    "    result=None\n",
    "    if len(pb.bids)==0:\n",
    "            return result\n",
    "    sort_bid = sorted(pb.bids, key=lambda x: x.price, reverse=True)[:3]\n",
    "    return sort_bid\n",
    "\n",
    "####################################################################################\n",
    "\n",
    "def best_ask(pb):\n",
    "    result=None\n",
    "    #we have to check if there are any asks  hasattr(pb, 'asks')\n",
    "    if hasattr(pb, 'asks'):\n",
    "        if len(pb.asks)==0:\n",
    "            return result\n",
    "        else:\n",
    "            minimum_ask=pb.asks[0]\n",
    "            for ask in pb.asks:\n",
    "#             print(ask.price)\n",
    "                if ask.price<minimum_ask.price:\n",
    "                    minimum_ask=ask\n",
    "            result=minimum_ask\n",
    "    return result\n",
    "################################################################\n",
    "\n",
    "################################################################\n",
    "def best_bid(pb):\n",
    "    result=None\n",
    "    if hasattr(pb, 'bids'):\n",
    "        if len(pb.bids)==0:\n",
    "            return result\n",
    "        else:\n",
    "            maximum_bid=pb.bids[0]\n",
    "            for bid in pb.bids:\n",
    "#             print(bid.price)\n",
    "                if bid.price>maximum_bid.price:\n",
    "                    maximum_bid=bid\n",
    "            result=maximum_bid\n",
    "    return result\n",
    "\n",
    "bid1=best_bid(pb_a)\n",
    "ask2=best_ask(pb_b)\n",
    "bid2=best_bid(pb_b)\n",
    "ask1=best_ask(pb_a) \n",
    "\n",
    "\n",
    "\n",
    "ranked_asks1=sort_ask(pb_a)\n",
    "ranked_bids1=sort_bid(pb_a)\n",
    "ranked_asks2=sort_ask(pb_b)\n",
    "ranked_bids2=sort_bid(pb_b)\n"
   ]
  },
  {
   "cell_type": "markdown",
   "metadata": {},
   "source": [
    "### Arbitrage\n",
    "\n",
    "Your function is given two pricebooks (pb_a, pb_b). Both pricebooks are for the same instrument but each represents the order book on a different exchange.\n",
    "An arbitrage opportunity exists when it is possible to sell or buy on one exchange and do the opposite trade on another exchange profitably.\n",
    "Arbitrage is the situation where you can do a riskless trade that has positive non-zero profit\n",
    "\n",
    "Write a function that takes two pricebooks as input and returns a boolean that represents whether an arbitrage opportunity exists between the two pricebooks.\n",
    "\n",
    "input: PriceBook, PriceBook\n",
    "\n",
    "output: bool (True if there is an arbitrage opportunity, False otherwise)"
   ]
  },
  {
   "cell_type": "code",
   "execution_count": 57,
   "metadata": {},
   "outputs": [
    {
     "data": {
      "text/plain": [
       "True"
      ]
     },
     "execution_count": 57,
     "metadata": {},
     "output_type": "execute_result"
    }
   ],
   "source": [
    "def has_arbitrage(pb_a, pb_b):\n",
    "    bid1=best_bid(pb_a)\n",
    "    ask2=best_ask(pb_b)\n",
    "    bid2=best_bid(pb_b)\n",
    "    ask1=best_ask(pb_a)\n",
    "    \n",
    "    \n",
    "    if (bid1==None) and (ask2==None) and (bid2==None) and (ask1==None):\n",
    "        result = False\n",
    "    elif (bid1.price > ask2.price):\n",
    "        result = True\n",
    "    elif (ask1.price < bid2.price):\n",
    "        result = True\n",
    "    else:\n",
    "        result = False\n",
    "        \n",
    "    return result\n",
    "    \n",
    "has_arbitrage(pb_a, pb_b)        "
   ]
  },
  {
   "cell_type": "markdown",
   "metadata": {},
   "source": [
    "### Arbitrage with costs\n",
    "\n",
    "You are again given two pricebooks, but now your are also given a cost. This cost represent the fee per lot you have to pay each exchange to trade.\n",
    "Your assignment is the same as before but now you have to account for the cost to trade in determining wheter there is an arbitrage opportunity.\n",
    "If you see an opportunity that could give you 10 profit but the cost is 6, it is not an arbitrage opportunity as you need to pay each exchange 6 with a total cost of 12.\n",
    "\n",
    "Write a function that takes two pricebooks and a cost as input and returns a boolean that represents whether an arbitrage opportunity exists between the two pricebooks.\n",
    "\n",
    "input: PriceBook, PriceBook, cost\n",
    "\n",
    "output: bool (True if there is an arbitrage opportunity, False otherwise)"
   ]
  },
  {
   "cell_type": "code",
   "execution_count": 58,
   "metadata": {},
   "outputs": [
    {
     "data": {
      "text/plain": [
       "True"
      ]
     },
     "execution_count": 58,
     "metadata": {},
     "output_type": "execute_result"
    }
   ],
   "source": [
    "def has_arbitrage_with_costs(pb_a, pb_b, cost):\n",
    "    bid1=best_bid(pb_a)\n",
    "    ask2=best_ask(pb_b)\n",
    "    bid2=best_bid(pb_b)\n",
    "    ask1=best_ask(pb_a)\n",
    "    \n",
    "    final_cost = 2*cost\n",
    "    \n",
    "    volume = 0\n",
    "    if (bid1==None) and (ask2==None) and (bid2==None) and (ask1==None):\n",
    "        result = False\n",
    "##########################################################\n",
    "    elif (bid1.price > ask2.price):\n",
    "        \n",
    "        if (ask2.volume < bid1.volume):\n",
    "            volume = ask2.volume\n",
    "        elif (ask2.volume > bid1.volume):\n",
    "            volume = bid1.volume\n",
    "        elif (ask2.volume == bid1.volume):\n",
    "            volume = bid1.volume\n",
    "        volume\n",
    "        pnl = (volume * (bid1.price-ask2.price))\n",
    "        if (pnl > (final_cost*volume)):\n",
    "            result = True\n",
    "        elif (pnl <= (final_cost*volume)):\n",
    "            result = False\n",
    "    \n",
    "        result\n",
    "        \n",
    "###########################################################\n",
    "    elif (ask1.price < bid2.price):\n",
    "        \n",
    "        if (bid2.volume > ask1.volume):\n",
    "            volume = ask1.volume\n",
    "        elif (bid2.volume < ask1.volume):\n",
    "            volume = bid2.volume\n",
    "        elif (bid2.volume == ask1.volume):\n",
    "            volume = bid2.volume\n",
    "        volume\n",
    "        pnl = (volume * (bid2.price-ask1.price))\n",
    "        if (pnl > (final_cost*volume)):\n",
    "            result = True\n",
    "        elif (pnl <= (final_cost*volume)):\n",
    "            result = False\n",
    "        result\n",
    "############################################################        \n",
    "    else:\n",
    "        result = False\n",
    "        \n",
    "    return result\n",
    "    \n",
    "\n",
    "\n",
    "has_arbitrage_with_costs(pb_a, pb_b, cost)"
   ]
  },
  {
   "cell_type": "markdown",
   "metadata": {},
   "source": [
    "### Arbitrage lots\n",
    "\n",
    "\n",
    "As before, your function is again given two pricebooks.\n",
    "\n",
    "Write a function that calculates the maximum number of lots you can trade under arbitrage.\n",
    "I.e. what is the maximum number of lots you can trade if your were to trade on all arbitrage opportunities.\n",
    "\n",
    "input: PriceBook, PriceBook\n",
    "\n",
    "output: lots (0 if there is no arbitrage opportunity, the maximum number of tradeable lots otherwise)"
   ]
  },
  {
   "cell_type": "code",
   "execution_count": 60,
   "metadata": {},
   "outputs": [
    {
     "data": {
      "text/plain": [
       "250"
      ]
     },
     "execution_count": 60,
     "metadata": {},
     "output_type": "execute_result"
    }
   ],
   "source": [
    "def arbitrage_lots(pb_a, pb_b):\n",
    "    \n",
    "    bid1=best_bid(pb_a)\n",
    "    ask2=best_ask(pb_b)\n",
    "    bid2=best_bid(pb_b)\n",
    "    ask1=best_ask(pb_a)\n",
    "     \n",
    "    ranked_asks1=sort_ask(pb_a)\n",
    "    ranked_bids1=sort_bid(pb_a)\n",
    "    ranked_asks2=sort_ask(pb_b)\n",
    "    ranked_bids2=sort_bid(pb_b)\n",
    "    \n",
    "    \n",
    "    volume = 0\n",
    "    if (bid1==None) and (ask2==None) and (bid2==None) and (ask1==None):\n",
    "        return volume\n",
    "    if bid2!=None and ask1!=None:\n",
    "        if(ask1.price < bid2.price):\n",
    "            for bid in ranked_bids2:\n",
    "                if bid.price>ask1.price:\n",
    "                    if ask1.volume<=bid.volume:\n",
    "                        volume = ask1.volume\n",
    "                    elif ask1.volume>bid.volume:\n",
    "                        for bid in ranked_bids2:\n",
    "                            if bid.price>ask1.price and bid.volume >= (ask1.volume-bid2.volume):\n",
    "                                volume = ask1.volume\n",
    "                            elif bid.price>ask1.price and bid.volume < (ask1.volume-bid2.volume):\n",
    "                                volume = bid2.volume + bid.volume\n",
    "                            else:\n",
    "                                volume = bid2.volume\n",
    "                    return volume\n",
    "    if bid1!=None and ask2!=None:\n",
    "        if (bid1.price > ask2.price):\n",
    "            for bid in ranked_bids1:   \n",
    "                if bid.price> ask2.price:\n",
    "                    if ask2.volume<=bid.volume:\n",
    "                        volume = ask2.volume\n",
    "                    elif ask2.volume>bid.volume:\n",
    "                        for bid in ranked_bids1:\n",
    "                            if bid.price>ask2.price and bid.volume >= (ask2.volume - bid1.volume):\n",
    "                                volume = ask2.volume\n",
    "                            elif bid.price>ask2.price and bid.volume < (ask2.volume - bid1.volume):\n",
    "                                volume = bid1.volume + bid.volume\n",
    "                            else:\n",
    "                                volume = bid1.volume\n",
    "                    return volume\n",
    "    \n",
    "    return volume\n",
    "        \n",
    "arbitrage_lots(pb_a, pb_b)"
   ]
  }
 ],
 "metadata": {
  "kernelspec": {
   "display_name": "Python 3",
   "language": "python",
   "name": "python3"
  },
  "language_info": {
   "codemirror_mode": {
    "name": "ipython",
    "version": 3
   },
   "file_extension": ".py",
   "mimetype": "text/x-python",
   "name": "python",
   "nbconvert_exporter": "python",
   "pygments_lexer": "ipython3",
   "version": "3.7.4"
  }
 },
 "nbformat": 4,
 "nbformat_minor": 2
}
