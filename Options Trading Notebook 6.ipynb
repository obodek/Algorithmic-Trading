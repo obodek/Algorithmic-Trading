{
 "cells": [
  {
   "cell_type": "markdown",
   "metadata": {},
   "source": [
    "# Options_Trading_6"
   ]
  },
  {
   "cell_type": "markdown",
   "metadata": {},
   "source": [
    "For this assignment you can use the functions in the black_scholes.py module, which should be included with this assignment."
   ]
  },
  {
   "cell_type": "code",
   "execution_count": 3,
   "metadata": {},
   "outputs": [],
   "source": [
    "import black_scholes as bs"
   ]
  },
  {
   "cell_type": "markdown",
   "metadata": {},
   "source": [
    "### Dummy data"
   ]
  },
  {
   "cell_type": "code",
   "execution_count": 4,
   "metadata": {},
   "outputs": [],
   "source": [
    "from client.info_messages import PriceBook, PriceVolume\n",
    "\n",
    "#stocks pricebook \n",
    "pb = PriceBook()\n",
    "pb.instrument_id = 'AAPL'\n",
    "pb.bids = [PriceVolume(99, 100)]\n",
    "pb.asks = [PriceVolume(101, 100)]\n",
    "\n",
    "#my added input \n",
    "# Option pricebook\n",
    "pb_a = PriceBook()\n",
    "pb_a.instrument_id = 'AAPL_CALL'\n",
    "pb_a.bids = [PriceVolume(6, 100)]\n",
    "pb_a.asks = [PriceVolume(10, 100)]\n",
    "\n",
    "pb_b = PriceBook()\n",
    "pb_b.instrument_id = 'AAPL_PUT'\n",
    "pb_b.bids = [PriceVolume(8, 100)]\n",
    "pb_b.asks = [PriceVolume(11, 100)]\n",
    "\n",
    "pb_c = PriceBook()\n",
    "pb_c.instrument_id = 'AAPL_PUT'\n",
    "pb_c.bids = [PriceVolume(8, 100)]\n",
    "pb_c.asks = [PriceVolume(11, 100)]\n",
    "\n",
    "\n",
    "\n",
    "# Dummy data\n",
    "call = Option('call', 1, 100)\n",
    "put = Option('put', 0.5, 110)\n",
    "\n",
    "call.kind  # call or put\n",
    "call.tte  # time to expiry\n",
    "call.strike  # strike price\n",
    "\n",
    "option_positions = [(call, 100), (put, -50)]\n",
    "\n",
    "S = 100  # Underlying price\n",
    "r = 0  # Interest rate\n",
    "sigma = 0.2  # Volatility\n",
    "\n",
    "from scipy import stats\n",
    "import numpy as np\n",
    "\n",
    "_norm_cdf = stats.norm(0, 1).cdf\n",
    "_norm_pdf = stats.norm(0, 1).pdf\n",
    "\n",
    "\n",
    "def _d1(S, K, T, r, sigma):\n",
    "    return (np.log(S / K) + (r + 0.5 * sigma ** 2) * T) / (sigma * np.sqrt(T))\n",
    "\n",
    "\n",
    "def _d2(S, K, T, r, sigma):\n",
    "    return _d1(S, K, T, r, sigma) - sigma * np.sqrt(T)\n",
    "\n",
    "def call_value(S, K, T, r, sigma):\n",
    "    return S * _norm_cdf(_d1(S, K, T, r, sigma)) - K * np.exp(-r * T) * _norm_cdf(_d2(S, K, T, r, sigma))\n",
    "\n",
    "def put_value(S, K, T, r, sigma):\n",
    "    return np.exp(-r * T) * K * _norm_cdf(-_d2(S, K, T, r, sigma)) - S * _norm_cdf(-_d1(S, K, T, r, sigma))\n",
    "\n",
    "def call_delta(S, K, T, r, sigma):\n",
    "    return _norm_cdf(_d1(S, K, T, r, sigma))\n",
    "\n",
    "def put_delta(S, K, T, r, sigma):\n",
    "    return call_delta(S, K, T, r, sigma) - 1\n",
    "\n",
    "\n",
    "def call_vega(S, K, T, r, sigma):\n",
    "    return S * _norm_pdf(_d1(S, K, T, r, sigma)) * np.sqrt(T)\n",
    "\n",
    "def put_vega(S, K, T, r, sigma):\n",
    "    return call_vega(S, K, T, r, sigma)\n",
    "\n",
    "def best_bid_price(PriceBook):\n",
    "    \n",
    "    if PriceBook.bids == []:\n",
    "        return \n",
    "    return sorted(PriceBook.bids, key = lambda x: x.price)[-1].price\n",
    "\n",
    "def best_ask_price(PriceBook):\n",
    "    \n",
    "    if PriceBook.asks == []:\n",
    "        return \n",
    "    return sorted(PriceBook.asks, key = lambda x: x.price)[0].price"
   ]
  },
  {
   "cell_type": "markdown",
   "metadata": {},
   "source": [
    "### Option Vega\n",
    "\n",
    "Write a function that calculates the black-scholes option vega given an option and market data.\n",
    "\n",
    "input: Option, S, r, sigma\n",
    "\n",
    "output: option vega"
   ]
  },
  {
   "cell_type": "code",
   "execution_count": 73,
   "metadata": {},
   "outputs": [
    {
     "data": {
      "text/plain": [
       "39.69525474770118"
      ]
     },
     "execution_count": 73,
     "metadata": {},
     "output_type": "execute_result"
    }
   ],
   "source": [
    "def option_vega(option, S, r, sigma):\n",
    "    \n",
    "    if option.kind == 'call':\n",
    "        K = option.strike\n",
    "        T = option.tte\n",
    "        c_vega = call_vega(S, K, T, r, sigma)\n",
    "        return c_vega\n",
    "    \n",
    "    if option.kind == 'put':\n",
    "        K = option.strike\n",
    "        T = option.tte\n",
    "        p_vega = put_vega(S, K, T, r, sigma)\n",
    "        return p_vega\n",
    "    \n",
    "option_vega(call, S, r, sigma)"
   ]
  },
  {
   "cell_type": "markdown",
   "metadata": {},
   "source": [
    "### Cheapest Vega\n",
    "\n",
    "Your function receives three options with their pricebook as input.\n",
    "The goal of the function is to determine which option would be the cheapest vega hedge.\n",
    "\n",
    "Assume you currently have a vega position (size and direction is irrelevant in this exercise). Your risk departement wants you to reduce this position.\n",
    "Your function should determine which option is the cheapest to use in reducing your risk.\n",
    "\n",
    "For the purposes of this exercise we value the options at the midprice of each of their books.\n",
    "This means that the cost of buying/selling an option is half the bid/ask spread.\n",
    "\n",
    "Note that different options have different vegas, so the cheapest option is not neccesarily the one with the smallest bid/ask spread.\n",
    "\n",
    "For this exercise you can assume all you books will have at least one bid and one ask.\n",
    "\n",
    "For example: Imagine a book of an option is 8.5 @ 11.5 (best_bid@best_ask) and the vega of that option is 3. The cost of buying 1 lot of this option is 1.5 as we buy it for 11.5 while it is worth 10 (midprice). As the vega is 3, per vega we pay 0.5. In other words, per euro we get 2 vegas.\n",
    "\n",
    "Doing this analyis for each option book should allow you to determine the cheapest one.\n",
    "\n",
    "input: Option, PriceBook, Option, PriceBook, Option, PriceBook, S, r, sigma\n",
    "\n",
    "output: instrument_id of the cheapest instrument (a for option_a, b for option_b and c for option_c) (these can also be found from the PriceBook: pb.instrument_id)"
   ]
  },
  {
   "cell_type": "code",
   "execution_count": 72,
   "metadata": {},
   "outputs": [
    {
     "data": {
      "text/plain": [
       "'AAPL_PUT'"
      ]
     },
     "execution_count": 72,
     "metadata": {},
     "output_type": "execute_result"
    }
   ],
   "source": [
    "#vega: point change in theoretical value of an option (bc) for each one percentage point change in volatility \n",
    "\n",
    "def cheapest_vega(option_a, pb_a, option_b, pb_b, option_c, pb_c, S, r, sigma):\n",
    "    \n",
    "    best_bid_a = best_bid_price(pb_a)\n",
    "    best_ask_a = best_ask_price(pb_a)\n",
    "    cost_a = (best_ask_a - best_bid_a) / 2 \n",
    "    a = 1/cost_a\n",
    "    \n",
    "    best_bid_b = best_bid_price(pb_b)\n",
    "    best_ask_b = best_ask_price(pb_b)\n",
    "    cost_b = (best_ask_b - best_bid_b) / 2 \n",
    "    b = 1/cost_b\n",
    "    \n",
    "    best_bid_c = best_bid_price(pb_c)\n",
    "    best_ask_c = best_ask_price(pb_c)\n",
    "    cost_c = (best_ask_c - best_bid_c) / 2\n",
    "    c = 1/cost_c\n",
    "    \n",
    "    max_ = a\n",
    "    if b > max_:\n",
    "        max_ = b\n",
    "        return pb_b.instrument_id\n",
    "    if c > max_:\n",
    "        max_ = c \n",
    "        return pb_c.instrument_id\n",
    "    else:\n",
    "        return pb_a.instrument_id\n",
    "    \n",
    "cheapest_vega(put, pb_a, call, pb_b, put, pb_c, S, r, sigma)    "
   ]
  },
  {
   "cell_type": "markdown",
   "metadata": {},
   "source": [
    "### Finding implied volatility\n",
    "\n",
    "Write a function that calculates the implied volatility of the option using Newton's method.\n",
    "\n",
    "https://en.wikipedia.org/wiki/Newton%27s_method\n",
    "\n",
    "The implied volatility of a given option price is the volatility you need to put in the black-scholes formula so that the given option price comes out.\n",
    "There is no analytical formula for the inverse so we do it using a numerical root finding method (here Newton's method).\n",
    "\n",
    "Stop the optimisation if you've reached 100 iterations or if the abs difference between successive updates is smaller than 1e-05 (0.00001).\n",
    "\n",
    "input: Option, price, S, r\n",
    "\n",
    "output: implied volatility"
   ]
  },
  {
   "cell_type": "code",
   "execution_count": 77,
   "metadata": {},
   "outputs": [
    {
     "data": {
      "text/plain": [
       "0.01253322340350088"
      ]
     },
     "execution_count": 77,
     "metadata": {},
     "output_type": "execute_result"
    }
   ],
   "source": [
    "def option_price(option, S, r, sigma):\n",
    "    \n",
    "    if option.kind == 'call':\n",
    "        K = option.strike\n",
    "        T = option.tte\n",
    "        f = bs.call_value(S, K, T, r, sigma)\n",
    "        return f\n",
    "    \n",
    "    if option.kind == 'put':\n",
    "        K = option.strike\n",
    "        T = option.tte\n",
    "        f = bs.put_value(S, K, T, r, sigma)\n",
    "        return f\n",
    "    \n",
    "#print(option_price(call, S, r, sigma))\n",
    "\n",
    "def f(option, S, r, sigma, price):\n",
    "    \n",
    "        return option_price(option, S, r, sigma) - price \n",
    "    \n",
    "#print(f(call, S, r, sigma, 0.5))\n",
    "    \n",
    "def derivative(function, option, S, r, sigma, price):\n",
    "    return (function(option, S, r, sigma + 1e-05, price) - function(option, S, r, sigma - 1e-05, price)) /2e-05 \n",
    "\n",
    "f(call, S, r, 0, 5)/derivative(f, call, S, r, 0, 5)\n",
    "    \n",
    "def implied_vol(option, price, S, r):\n",
    "\n",
    "    old_sigma = 0.2\n",
    "    new_sigma = 0.2\n",
    "    for i in range(100):\n",
    "        new_sigma = old_sigma - f(option, S, r, old_sigma, price)/ derivative(f, option, S, r, old_sigma, price)\n",
    "        if abs(old_sigma-new_sigma) <= 1e-05:\n",
    "            break \n",
    "        old_sigma = new_sigma\n",
    "    return new_sigma\n",
    "\n",
    "implied_vol(call, 0.5, S, r)\n"
   ]
  }
 ],
 "metadata": {
  "kernelspec": {
   "display_name": "Python 3",
   "language": "python",
   "name": "python3"
  },
  "language_info": {
   "codemirror_mode": {
    "name": "ipython",
    "version": 3
   },
   "file_extension": ".py",
   "mimetype": "text/x-python",
   "name": "python",
   "nbconvert_exporter": "python",
   "pygments_lexer": "ipython3",
   "version": "3.7.4"
  }
 },
 "nbformat": 4,
 "nbformat_minor": 2
}
