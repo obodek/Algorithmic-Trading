{
 "cells": [
  {
   "cell_type": "markdown",
   "metadata": {},
   "source": [
    "# Options_Trading_2\n"
   ]
  },
  {
   "cell_type": "markdown",
   "metadata": {},
   "source": [
    "### Dummy data"
   ]
  },
  {
   "cell_type": "code",
   "execution_count": 1,
   "metadata": {},
   "outputs": [],
   "source": [
    "from client.info_messages import TradeTick\n",
    "from client.exec_messages import Trade\n",
    "\n",
    "# Trades\n",
    "trade = Trade()\n",
    "trade.instrument_id = 'AAPL'\n",
    "trade.price = 100\n",
    "trade.volume = 1000\n",
    "trade.side = 'bid'\n",
    "trades = [trade]\n",
    "\n",
    "# Trade ticks\n",
    "trade_tick = TradeTick()\n",
    "trade_tick.instrument_id = 'AAPL'\n",
    "trade_tick.price = 100\n",
    "trade_tick.volume = 1000\n",
    "trade_tick.aggressor_side = 'bid' \n",
    "trade_ticks = [trade_tick]\n",
    "\n",
    "trade_tick = TradeTick()\n",
    "trade_tick.instrument_id = 'AAPL'\n",
    "trade_tick.price = 200\n",
    "trade_tick.volume = 2000\n",
    "trade_tick.aggressor_side = 'bid'  # Aggressor was buyer\n",
    "trade_ticks = [trade_tick]"
   ]
  },
  {
   "cell_type": "markdown",
   "metadata": {},
   "source": [
    "\n",
    "### Calculating positions\n",
    "\n",
    "Write a function that calculates your final position given a list of trades.\n",
    "Assume your starting position is zero. How many lots do you hold after all trades are processed?\n",
    "\n",
    "input: list of Trade\n",
    "\n",
    "output: final number of lots (positive if long, negative if short)"
   ]
  },
  {
   "cell_type": "code",
   "execution_count": 2,
   "metadata": {},
   "outputs": [
    {
     "name": "stdout",
     "output_type": "stream",
     "text": [
      "1000\n"
     ]
    }
   ],
   "source": [
    "def calculate_position(traded_shares):\n",
    "    \n",
    "    final_position = 0\n",
    "    for trade in traded_shares:\n",
    "        if trade.side == 'ask':\n",
    "            final_position -= trade.volume\n",
    "        elif trade.side == 'bid':\n",
    "            final_position += trade.volume\n",
    "    return final_position   \n",
    "        \n",
    "print(calculate_position(trades))"
   ]
  },
  {
   "cell_type": "markdown",
   "metadata": {},
   "source": [
    "### Calculating pnl\n",
    "Write a function that calculates your final pnl given a list of trades.\n",
    "Assume your starting position is zero.\n",
    "\n",
    "If you have any open positions after processing the trades you must close them at the price of your last trade.\n",
    "For example: You last traded @ 100. After processing all the trades you have a final position of 10 lots long in the underlying. Closing the position would mean adding a trade where you sell 10 lots @ 100. The pnl of this last trade should be included in the final pnl.\n",
    "\n",
    "input: list of Trade\n",
    "\n",
    "output: pnl"
   ]
  },
  {
   "cell_type": "code",
   "execution_count": 8,
   "metadata": {},
   "outputs": [
    {
     "ename": "NameError",
     "evalue": "name 'open_position' is not defined",
     "output_type": "error",
     "traceback": [
      "\u001b[1;31m---------------------------------------------------------------------------\u001b[0m",
      "\u001b[1;31mNameError\u001b[0m                                 Traceback (most recent call last)",
      "\u001b[1;32m<ipython-input-8-088380b3e0bf>\u001b[0m in \u001b[0;36m<module>\u001b[1;34m\u001b[0m\n\u001b[0;32m     13\u001b[0m \u001b[1;33m\u001b[0m\u001b[0m\n\u001b[0;32m     14\u001b[0m     \u001b[1;32mreturn\u001b[0m \u001b[0msum_pnl\u001b[0m\u001b[1;33m\u001b[0m\u001b[1;33m\u001b[0m\u001b[0m\n\u001b[1;32m---> 15\u001b[1;33m \u001b[0mcalculate_pnl\u001b[0m\u001b[1;33m(\u001b[0m\u001b[0mtrades\u001b[0m\u001b[1;33m)\u001b[0m\u001b[1;33m\u001b[0m\u001b[1;33m\u001b[0m\u001b[0m\n\u001b[0m",
      "\u001b[1;32m<ipython-input-8-088380b3e0bf>\u001b[0m in \u001b[0;36mcalculate_pnl\u001b[1;34m(trades)\u001b[0m\n\u001b[0;32m      9\u001b[0m     \u001b[0mfinal_position\u001b[0m \u001b[1;33m=\u001b[0m \u001b[0mcalculate_position\u001b[0m\u001b[1;33m(\u001b[0m\u001b[0mtrades\u001b[0m\u001b[1;33m)\u001b[0m\u001b[1;33m\u001b[0m\u001b[1;33m\u001b[0m\u001b[0m\n\u001b[0;32m     10\u001b[0m \u001b[1;33m\u001b[0m\u001b[0m\n\u001b[1;32m---> 11\u001b[1;33m     \u001b[1;32mif\u001b[0m \u001b[0mopen_position\u001b[0m \u001b[1;33m!=\u001b[0m \u001b[1;36m0\u001b[0m\u001b[1;33m:\u001b[0m\u001b[1;33m\u001b[0m\u001b[1;33m\u001b[0m\u001b[0m\n\u001b[0m\u001b[0;32m     12\u001b[0m         \u001b[0msum_pnl\u001b[0m \u001b[1;33m+=\u001b[0m \u001b[0mfinal_position\u001b[0m \u001b[1;33m*\u001b[0m \u001b[0mtrades\u001b[0m\u001b[1;33m[\u001b[0m\u001b[1;33m-\u001b[0m\u001b[1;36m1\u001b[0m\u001b[1;33m]\u001b[0m\u001b[1;33m.\u001b[0m\u001b[0mprice\u001b[0m\u001b[1;33m\u001b[0m\u001b[1;33m\u001b[0m\u001b[0m\n\u001b[0;32m     13\u001b[0m \u001b[1;33m\u001b[0m\u001b[0m\n",
      "\u001b[1;31mNameError\u001b[0m: name 'open_position' is not defined"
     ]
    }
   ],
   "source": [
    "def calculate_pnl(trades):\n",
    "    \n",
    "    if len(trades) == 0:\n",
    "        return None\n",
    "    signs = {'ask':1, 'bid':-1}\n",
    "    sum_pnl = 0\n",
    "    for trade in trades:\n",
    "        sum_pnl +=  trade.price * trade.volume * signs[trade.side]\n",
    "    \n",
    "    final_position = calculate_position(trades)\n",
    "    \n",
    "    if open_position != 0:\n",
    "        sum_pnl += final_position * trades[-1].price\n",
    "    \n",
    "    return sum_pnl \n",
    "calculate_pnl(trades)"
   ]
  },
  {
   "cell_type": "markdown",
   "metadata": {},
   "source": [
    "### Total volume aggressively sold\n",
    "Write a function that calculates the total volume (expressed in price terms) that has been aggressively sold in the market.\n",
    "The input is a list of trade_ticks from the exchange.\n",
    "\n",
    "If person A buys 10 lots @ 100 from person B, the total volume in price terms for this trade is 10 * 100 = 1000.\n",
    "Aggressively selling means that someone has sent in an order that matches with a resting buy order.\n",
    "In this case the seller was the aggressor and the buyer was passive.\n",
    "\n",
    "input: list of TradeTick\n",
    "\n",
    "output: volume (in price terms)"
   ]
  },
  {
   "cell_type": "code",
   "execution_count": 9,
   "metadata": {},
   "outputs": [
    {
     "data": {
      "text/plain": [
       "0"
      ]
     },
     "execution_count": 9,
     "metadata": {},
     "output_type": "execute_result"
    }
   ],
   "source": [
    "def volume_traded(trade_ticks):\n",
    "    \n",
    "    volume = 0\n",
    "    for trade in trade_ticks:\n",
    "        if trade.aggressor_side == 'ask':\n",
    "            volume += trade.price * trade.volume\n",
    "    result = volume\n",
    "    return result\n",
    "\n",
    "volume_traded(trade_ticks)"
   ]
  },
  {
   "cell_type": "markdown",
   "metadata": {},
   "source": [
    "### Volume weighted average trade price\n",
    "Write a function that calculates volume weighted average trade price from a list of trade ticks.\n",
    "\n",
    "The volume weighted average trade price is the average of all prices at which the instrument has traded weighted by their respective trade volumes.\n",
    "\n",
    "input: list of TradeTick\n",
    "\n",
    "output: price or `None` if there are no tradeticks."
   ]
  },
  {
   "cell_type": "code",
   "execution_count": 10,
   "metadata": {},
   "outputs": [
    {
     "data": {
      "text/plain": [
       "200.0"
      ]
     },
     "execution_count": 10,
     "metadata": {},
     "output_type": "execute_result"
    }
   ],
   "source": [
    "def volume_weighted_average_price(trade_ticks):\n",
    "    \n",
    "    result = None \n",
    "    price_volume = 0\n",
    "    sum_volume = 0\n",
    "    for x in trade_ticks: \n",
    "            price_volume += (x.price * x.volume) \n",
    "            sum_volume += x.volume\n",
    "            result =  price_volume / sum_volume\n",
    "    return result\n",
    "\n",
    "volume_weighted_average_price(trade_ticks)"
   ]
  }
 ],
 "metadata": {
  "kernelspec": {
   "display_name": "Python 3",
   "language": "python",
   "name": "python3"
  },
  "language_info": {
   "codemirror_mode": {
    "name": "ipython",
    "version": 3
   },
   "file_extension": ".py",
   "mimetype": "text/x-python",
   "name": "python",
   "nbconvert_exporter": "python",
   "pygments_lexer": "ipython3",
   "version": "3.7.4"
  }
 },
 "nbformat": 4,
 "nbformat_minor": 2
}
