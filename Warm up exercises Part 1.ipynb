{
 "cells": [
  {
   "cell_type": "markdown",
   "metadata": {},
   "source": [
    "# Python course 1\n",
    "\n",
    "Submit this notebook to codegrade as python_course_1.ipynb.\n",
    "\n",
    "Alternatively, copy the function from the notebook into a script and submit as python_course_1.py."
   ]
  },
  {
   "cell_type": "markdown",
   "metadata": {},
   "source": [
    "### Max of three numbers\n",
    "Write a function that returns the maximum of 3 numbers.\n",
    "Do not make use of the inbuilt max logic provided by python!\n",
    "\n",
    "Function signature: maximum(number1, number2, number3)\n",
    "\n",
    "Output: The largest number"
   ]
  },
  {
   "cell_type": "code",
   "execution_count": 5,
   "metadata": {},
   "outputs": [
    {
     "data": {
      "text/plain": [
       "5"
      ]
     },
     "execution_count": 5,
     "metadata": {},
     "output_type": "execute_result"
    }
   ],
   "source": [
    "def maximum(number1, number2, number3):\n",
    "    \n",
    "    max_1 = number1\n",
    "    if number2 > max_1:\n",
    "        max_1 = number2\n",
    "    if number3 > max_1:\n",
    "        max_1 = number3  \n",
    "    return max_1\n",
    "    \n",
    "maximum(1,3,5)"
   ]
  },
  {
   "cell_type": "markdown",
   "metadata": {},
   "source": [
    "### Compare\n",
    "\n",
    "Write a function that will return True if any of the following statements are True:\n",
    "- the two provided numbers are equal\n",
    "- the sum of the two numbers is 5\n",
    "- the difference between the two numbers is 5\n",
    "\n",
    "Function signature: equal_sum_or_difference_is_five(number1, number2)\n",
    "\n",
    "Output: True or False"
   ]
  },
  {
   "cell_type": "code",
   "execution_count": 32,
   "metadata": {},
   "outputs": [
    {
     "data": {
      "text/plain": [
       "False"
      ]
     },
     "execution_count": 32,
     "metadata": {},
     "output_type": "execute_result"
    }
   ],
   "source": [
    "def equal_sum_or_difference_is_five(number1, number2):\n",
    "    \n",
    "    result = False \n",
    "    \n",
    "    if number1 == number2:\n",
    "        result = True \n",
    "    if number1 + number2 == 5:\n",
    "        result = True \n",
    "    if number1 - number2 == 5: \n",
    "        result = True \n",
    "    #elif return False \n",
    "\n",
    "    return result \n",
    "    \n",
    "equal_sum_or_difference_is_five(10, 3)"
   ]
  },
  {
   "cell_type": "markdown",
   "metadata": {},
   "source": [
    "### Salary\n",
    "\n",
    "Write a function that returns the weekly salary with overtime.\n",
    "Overtime hours (> 40 hours worked) receive a multiplier of 1.5.\n",
    "\n",
    "Function signature: calculate_salary(hours_worked, salary_per_hour)\n",
    "\n",
    "Output: salary per week"
   ]
  },
  {
   "cell_type": "code",
   "execution_count": 42,
   "metadata": {},
   "outputs": [
    {
     "data": {
      "text/plain": [
       "650.0"
      ]
     },
     "execution_count": 42,
     "metadata": {},
     "output_type": "execute_result"
    }
   ],
   "source": [
    "def calculate_salary(hours_worked, salary_per_hour):\n",
    "    \n",
    "    if hours_worked <= 40: \n",
    "        return salary_per_hour * hours_worked\n",
    "    if hours_worked > 40:\n",
    "        return 40 * salary_per_hour + 1.5 * (40 * salary_per_hour - salary_per_hour * hours_worked)\n",
    "\n",
    "calculate_salary(45,20) "
   ]
  },
  {
   "cell_type": "markdown",
   "metadata": {},
   "source": [
    "### Leap year\n",
    "Write a function that determines if a year is a leap or common year.\n",
    "A year is a leap year if it is exactly divisible by 4 and cannot exactly be divided by 100.\n",
    "A year is always a leap year if it is exactly divisible by 400.\n",
    "\n",
    "Function signature: get_year_type(year)\n",
    "\n",
    "Output: \"LEAP\" or \"COMMON\""
   ]
  },
  {
   "cell_type": "code",
   "execution_count": 31,
   "metadata": {},
   "outputs": [
    {
     "data": {
      "text/plain": [
       "False"
      ]
     },
     "execution_count": 31,
     "metadata": {},
     "output_type": "execute_result"
    }
   ],
   "source": [
    "def get_year_type(year):\n",
    "    \n",
    "    result = False \n",
    "    \n",
    "    if year % 400 == 0:\n",
    "        result = print(\"LEAP\")\n",
    "    if year % 4 == 0 and not year % 100 == 0: \n",
    "        result = print(\"COMMON\") \n",
    "        \n",
    "    return result \n",
    "\n",
    "get_year_type(367)"
   ]
  },
  {
   "cell_type": "markdown",
   "metadata": {},
   "source": [
    "### Sorted\n",
    "Write a function that takes 3 numbers that prints them in a sorted (ascending) order.\n",
    "Do not make use of the builtin sorted logic provided by python!\n",
    "\n",
    "Function signature: print_sorted(number1, number2, number3)\n",
    "\n",
    "Output: The function should output nothing but it should print the numbers from low to high split by comma e.g. : print_sorted(10, 5.8, -1.0) will print -1.0,5.8,10"
   ]
  },
  {
   "cell_type": "code",
   "execution_count": 39,
   "metadata": {},
   "outputs": [
    {
     "name": "stdout",
     "output_type": "stream",
     "text": [
      "10 4 1\n"
     ]
    }
   ],
   "source": [
    "def print_sorted(number1, number2, number3):\n",
    "     \n",
    "    if number1 > number2 > number3:\n",
    "        print(number1, number2, number3)\n",
    "    if number3 > number2 > number1:\n",
    "        print(number3, number2, number1)\n",
    "    if number2 > number3 > number1:\n",
    "        print(number2, number3, number1)\n",
    "    if number2 > number1 > number3:\n",
    "        print(number2, number1, number3)\n",
    "        \n",
    "print_sorted(1, 10, 4)"
   ]
  }
 ],
 "metadata": {
  "kernelspec": {
   "display_name": "Python 3",
   "language": "python",
   "name": "python3"
  },
  "language_info": {
   "codemirror_mode": {
    "name": "ipython",
    "version": 3
   },
   "file_extension": ".py",
   "mimetype": "text/x-python",
   "name": "python",
   "nbconvert_exporter": "python",
   "pygments_lexer": "ipython3",
   "version": "3.7.4"
  }
 },
 "nbformat": 4,
 "nbformat_minor": 2
}
