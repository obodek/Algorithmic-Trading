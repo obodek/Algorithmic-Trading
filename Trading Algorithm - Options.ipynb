{
 "cells": [
  {
   "cell_type": "code",
   "execution_count": 1,
   "metadata": {},
   "outputs": [],
   "source": [
    "# imports #\n",
    "import random\n",
    "\n",
    "import time\n",
    "import datetime\n",
    "import matplotlib.pyplot as plt\n",
    "import pickle\n",
    "import numpy as np\n",
    "\n",
    "import math\n",
    "import statistics as st\n",
    "from collections import defaultdict\n",
    "from client.info_messages import TradeTick\n",
    "from client.exec_messages import Trade\n",
    "\n",
    "from cointegration_analysis import engle_granger_two_step_cointegration_test\n",
    "from cointegration_analysis import estimate_long_run_short_run_relationships"
   ]
  },
  {
   "cell_type": "code",
   "execution_count": 1,
   "metadata": {},
   "outputs": [
    {
     "name": "stderr",
     "output_type": "stream",
     "text": [
      "2021-08-28 13:30:31,572 [asyncio   ] [MainThread  ] Using selector: SelectSelector\n",
      "2021-08-28 13:30:31,620 [client    ] [Thread-6    ] background thread started\n"
     ]
    },
    {
     "ename": "Exception",
     "evalue": "Unable to connect to the exchange",
     "output_type": "error",
     "traceback": [
      "\u001b[1;31m---------------------------------------------------------------------------\u001b[0m",
      "\u001b[1;31mException\u001b[0m                                 Traceback (most recent call last)",
      "\u001b[1;32m<ipython-input-1-c8eb410394fa>\u001b[0m in \u001b[0;36m<module>\u001b[1;34m\u001b[0m\n\u001b[0;32m      8\u001b[0m \u001b[1;32mfrom\u001b[0m \u001b[0mclient\u001b[0m\u001b[1;33m.\u001b[0m\u001b[0minfo_messages\u001b[0m \u001b[1;32mimport\u001b[0m \u001b[0mPriceBook\u001b[0m\u001b[1;33m,\u001b[0m \u001b[0mPriceVolume\u001b[0m\u001b[1;33m\u001b[0m\u001b[1;33m\u001b[0m\u001b[0m\n\u001b[0;32m      9\u001b[0m \u001b[0mi\u001b[0m \u001b[1;33m=\u001b[0m \u001b[0mInfoOnly\u001b[0m\u001b[1;33m(\u001b[0m\u001b[0mhost\u001b[0m\u001b[1;33m=\u001b[0m\u001b[1;34m''\u001b[0m\u001b[1;33m)\u001b[0m\u001b[1;33m\u001b[0m\u001b[1;33m\u001b[0m\u001b[0m\n\u001b[1;32m---> 10\u001b[1;33m \u001b[0mi\u001b[0m\u001b[1;33m.\u001b[0m\u001b[0mconnect\u001b[0m\u001b[1;33m(\u001b[0m\u001b[1;33m)\u001b[0m\u001b[1;33m\u001b[0m\u001b[1;33m\u001b[0m\u001b[0m\n\u001b[0m\u001b[0;32m     11\u001b[0m \u001b[1;33m\u001b[0m\u001b[0m\n\u001b[0;32m     12\u001b[0m \u001b[1;32mfrom\u001b[0m \u001b[0mIPython\u001b[0m\u001b[1;33m.\u001b[0m\u001b[0mdisplay\u001b[0m \u001b[1;32mimport\u001b[0m \u001b[0mclear_output\u001b[0m\u001b[1;33m\u001b[0m\u001b[1;33m\u001b[0m\u001b[0m\n",
      "\u001b[1;32m~\\Anaconda3\\Python Workbook\\ALGOS NOTEBOOKS\\client\\synchronous_client.py\u001b[0m in \u001b[0;36mconnect\u001b[1;34m(self)\u001b[0m\n\u001b[0;32m    265\u001b[0m \u001b[1;33m\u001b[0m\u001b[0m\n\u001b[0;32m    266\u001b[0m     \u001b[1;32mdef\u001b[0m \u001b[0mconnect\u001b[0m\u001b[1;33m(\u001b[0m\u001b[0mself\u001b[0m\u001b[1;33m)\u001b[0m \u001b[1;33m->\u001b[0m \u001b[1;32mNone\u001b[0m\u001b[1;33m:\u001b[0m\u001b[1;33m\u001b[0m\u001b[1;33m\u001b[0m\u001b[0m\n\u001b[1;32m--> 267\u001b[1;33m         \u001b[0mself\u001b[0m\u001b[1;33m.\u001b[0m\u001b[0m_wrapper\u001b[0m\u001b[1;33m.\u001b[0m\u001b[0mconnect\u001b[0m\u001b[1;33m(\u001b[0m\u001b[1;33m)\u001b[0m\u001b[1;33m\u001b[0m\u001b[1;33m\u001b[0m\u001b[0m\n\u001b[0m\u001b[0;32m    268\u001b[0m \u001b[1;33m\u001b[0m\u001b[0m\n\u001b[0;32m    269\u001b[0m     \u001b[1;32mdef\u001b[0m \u001b[0mdisconnect\u001b[0m\u001b[1;33m(\u001b[0m\u001b[0mself\u001b[0m\u001b[1;33m)\u001b[0m \u001b[1;33m->\u001b[0m \u001b[1;32mNone\u001b[0m\u001b[1;33m:\u001b[0m\u001b[1;33m\u001b[0m\u001b[1;33m\u001b[0m\u001b[0m\n",
      "\u001b[1;32m~\\Anaconda3\\Python Workbook\\ALGOS NOTEBOOKS\\client\\synchronous_wrapper.py\u001b[0m in \u001b[0;36mconnect\u001b[1;34m(self)\u001b[0m\n\u001b[0;32m     35\u001b[0m             \u001b[0mslept_for\u001b[0m \u001b[1;33m+=\u001b[0m \u001b[0msleep_duration\u001b[0m\u001b[1;33m\u001b[0m\u001b[1;33m\u001b[0m\u001b[0m\n\u001b[0;32m     36\u001b[0m         \u001b[1;32mif\u001b[0m \u001b[1;32mnot\u001b[0m \u001b[0mself\u001b[0m\u001b[1;33m.\u001b[0m\u001b[0mis_connected\u001b[0m\u001b[1;33m(\u001b[0m\u001b[1;33m)\u001b[0m\u001b[1;33m:\u001b[0m\u001b[1;33m\u001b[0m\u001b[1;33m\u001b[0m\u001b[0m\n\u001b[1;32m---> 37\u001b[1;33m             \u001b[1;32mraise\u001b[0m \u001b[0mException\u001b[0m\u001b[1;33m(\u001b[0m\u001b[1;34m\"Unable to connect to the exchange\"\u001b[0m\u001b[1;33m)\u001b[0m\u001b[1;33m\u001b[0m\u001b[1;33m\u001b[0m\u001b[0m\n\u001b[0m\u001b[0;32m     38\u001b[0m \u001b[1;33m\u001b[0m\u001b[0m\n\u001b[0;32m     39\u001b[0m     \u001b[1;32mdef\u001b[0m \u001b[0mdisconnect\u001b[0m\u001b[1;33m(\u001b[0m\u001b[0mself\u001b[0m\u001b[1;33m)\u001b[0m \u001b[1;33m->\u001b[0m \u001b[1;32mNone\u001b[0m\u001b[1;33m:\u001b[0m\u001b[1;33m\u001b[0m\u001b[1;33m\u001b[0m\u001b[0m\n",
      "\u001b[1;31mException\u001b[0m: Unable to connect to the exchange"
     ]
    }
   ],
   "source": [
    "from IPython.display import clear_output\n",
    "\n",
    "import sys\n",
    "sys.path.append('..')\n",
    "\n",
    "from client.synchronous_client import InfoOnly\n",
    "from client.synchronous_client import Exchange\n",
    "from client.info_messages import PriceBook, PriceVolume\n",
    "i = InfoOnly(host='')\n",
    "i.connect()\n",
    "\n",
    "from IPython.display import clear_output\n",
    "\n",
    "import logging\n",
    "logger = logging.getLogger('client')\n",
    "logger.setLevel('ERROR')\n",
    "e = Exchange(host='')\n",
    "a = e.connect('', '')"
   ]
  },
  {
   "cell_type": "code",
   "execution_count": 4,
   "metadata": {},
   "outputs": [],
   "source": [
    "# read data from pickle files #\n",
    "def read_data(timestamps_pckl, stock_values_pckl):\n",
    "    with open(timestamps_pckl, 'rb') as f:\n",
    "        timestamps = pickle.load(f)\n",
    "    with open(stock_values_pckl, 'rb') as f:\n",
    "        stock_values = pickle.load(f)\n",
    "    return timestamps, stock_values"
   ]
  },
  {
   "cell_type": "code",
   "execution_count": 5,
   "metadata": {},
   "outputs": [],
   "source": [
    "# Load data into timestmaps and stock_values.\n",
    "timestamps, stock_values = read_data('timestamps.pckl', 'stock_values.pckl')\n",
    "\n",
    "# Create a new dictionary called log_stock_values with a similar structure to \n",
    "# stock_values, but containing the log of these instead.\n",
    "log_stock_values = {name: [math.log(v) for v in stock_values[name]] for name in stock_values}\n",
    "\n",
    "our_list = ['AIRBUS', 'ALLIANZ', 'ASML', 'LVMH', 'SAP', 'SIEMENS', 'TOTAL', 'UNILEVER']"
   ]
  },
  {
   "cell_type": "code",
   "execution_count": 6,
   "metadata": {},
   "outputs": [],
   "source": [
    "def best_pairs(list_of_stocks, stock_values):\n",
    "    \n",
    "    \"\"\"Best_pairs function finds the best trading pairs out of a list of names of stocks as well as their stock returns using \n",
    "    the engle_granger_two_step_cointegration_test function with log returns. \n",
    "    The best trading pairs are those with the most negative dfstat, thus those with greater cointegration.\n",
    "    \n",
    "    \n",
    "    Input: a list of names of stocks, a dictionary that has as keys the names of the stock and as values a list of their returns \n",
    "    Output: a dictionary that has as keys the names of the best pairs and as values their dfstat \n",
    "    \"\"\"\n",
    "    \n",
    "#     #tranform the normal returns to log returns \n",
    "#     log_stock_values = {name: [math.log(v) for v in stock_values[name]] for name in stock_values}\n",
    "\n",
    "    dfstat_dic, p_value_dic = (defaultdict(float) for i in range(2))\n",
    "    dfstat_best_dic = (defaultdict(float))\n",
    "\n",
    "    #double iteration through all 64 possible pairs\n",
    "    for name1 in list_of_stocks:\n",
    "        for name2 in list_of_stocks:\n",
    "            #check if self\n",
    "            if name1!=name2:\n",
    "                dfstat, p_value = engle_granger_two_step_cointegration_test(log_stock_values[name1],log_stock_values[name2])\n",
    "                #only when p-value < 0.01\n",
    "                if p_value<0.01:\n",
    "                        key=(name1,name2)\n",
    "                        key2=(name2,name1)\n",
    "                        #check if opposite pair exists already in dictionary\n",
    "                        if key2 in dfstat_dic:\n",
    "                            #check which one has the most negative dfstat and keep only these\n",
    "                            if dfstat<dfstat_dic[key2]:\n",
    "                                dfstat_dic[key]+=dfstat\n",
    "                                dfstat_best_dic[key]+=dfstat\n",
    "                            else:\n",
    "                                dfstat_dic[key]+=dfstat\n",
    "                                if key2 not in dfstat_best_dic:\n",
    "                                    dfstat_best_dic[key2]+=dfstat_dic[key2]\n",
    "                        else:\n",
    "                            dfstat_dic[key]+=dfstat\n",
    "                            p_value_dic[key]+=p_value\n",
    "\n",
    "    return dfstat_best_dic"
   ]
  },
  {
   "cell_type": "code",
   "execution_count": 7,
   "metadata": {},
   "outputs": [
    {
     "name": "stderr",
     "output_type": "stream",
     "text": [
      "C:\\Users\\Oliwia1596\\Anaconda3\\lib\\site-packages\\numpy\\core\\fromnumeric.py:2389: FutureWarning: Method .ptp is deprecated and will be removed in a future version. Use numpy.ptp instead.\n",
      "  return ptp(axis=axis, out=out, **kwargs)\n"
     ]
    }
   ],
   "source": [
    "best=best_pairs(our_list,log_stock_values)"
   ]
  },
  {
   "cell_type": "code",
   "execution_count": 8,
   "metadata": {},
   "outputs": [
    {
     "data": {
      "text/plain": [
       "defaultdict(float,\n",
       "            {('LVMH', 'ALLIANZ'): -79.83432299252725,\n",
       "             ('SAP', 'ASML'): -76.09277346657072,\n",
       "             ('SIEMENS', 'AIRBUS'): -52.11949423881058,\n",
       "             ('TOTAL', 'UNILEVER'): -39.42636926693103})"
      ]
     },
     "execution_count": 8,
     "metadata": {},
     "output_type": "execute_result"
    }
   ],
   "source": [
    "best"
   ]
  },
  {
   "cell_type": "code",
   "execution_count": 9,
   "metadata": {},
   "outputs": [
    {
     "name": "stdout",
     "output_type": "stream",
     "text": [
      "[('LVMH', 'ALLIANZ'), ('SAP', 'ASML'), ('SIEMENS', 'AIRBUS'), ('TOTAL', 'UNILEVER')]\n",
      "('TOTAL', 'UNILEVER')\n"
     ]
    }
   ],
   "source": [
    "# list of names of our pairs\n",
    "list_of_pairs=[]\n",
    "for key in best.keys():\n",
    "    list_of_pairs.append(key)\n",
    "\n",
    "print(list_of_pairs)\n",
    "print(list_of_pairs[3])"
   ]
  },
  {
   "cell_type": "code",
   "execution_count": 10,
   "metadata": {},
   "outputs": [],
   "source": [
    "def values_of_best_pairs(pairs,stock_values):\n",
    "    \"\"\"Values_of_best_pairs function calculates the c,gamma,alpha and z of each pair of stocks of a given list. Each element of the list\n",
    "    is in the form of 'Name1-Name2'. The gammas are calculated using the estimate_long_run_short_run_relationships() function\n",
    "    \n",
    "    \n",
    "    Input: A list of pairs where each element is in the form of 'Name_of_the_first_stock-Name_of_the_second_stock', and a dictionary that\n",
    "    has as keys the names of the stock and as values a list of their returns.\n",
    "    Output: A dictionary that has as keys the pairs of the stocks in the form 'Name_of_the_first_stock-Name_of_the_second_stock' and\n",
    "    as values their respective gamma.\n",
    "    \"\"\"\n",
    "    \n",
    "    c_dic, gamma_dic, alpha_dic = (defaultdict(float) for i in range(3))\n",
    "    z_dic = defaultdict(list)\n",
    "\n",
    "    #iterate through pairs and find (c) , gamma , (alpha) , (z) for each one\n",
    "    for pair in pairs:\n",
    "            c , gamma , alpha , z = estimate_long_run_short_run_relationships(log_stock_values[pair[0]], log_stock_values[pair[1]])\n",
    "            key=(pair[0],pair[1])\n",
    "            c_dic[key]+=c\n",
    "            gamma_dic[key]+=gamma\n",
    "            alpha_dic[key]+=alpha\n",
    "            z_dic[key].append(z)\n",
    "    \n",
    "\n",
    "    return c_dic,gamma_dic,alpha_dic, z_dic"
   ]
  },
  {
   "cell_type": "code",
   "execution_count": 11,
   "metadata": {},
   "outputs": [],
   "source": [
    "c,gamma,alpha,z= values_of_best_pairs(list_of_pairs,log_stock_values)\n"
   ]
  },
  {
   "cell_type": "code",
   "execution_count": 12,
   "metadata": {},
   "outputs": [
    {
     "name": "stdout",
     "output_type": "stream",
     "text": [
      "defaultdict(<class 'float'>, {('LVMH', 'ALLIANZ'): 1.1445122982673936, ('SAP', 'ASML'): -1.0113536576920978, ('SIEMENS', 'AIRBUS'): 1.2669276350298588, ('TOTAL', 'UNILEVER'): 2.662989564576037})\n"
     ]
    }
   ],
   "source": [
    "print(c)"
   ]
  },
  {
   "cell_type": "code",
   "execution_count": 13,
   "metadata": {},
   "outputs": [
    {
     "name": "stdout",
     "output_type": "stream",
     "text": [
      "defaultdict(<class 'float'>, {('LVMH', 'ALLIANZ'): 0.9126035438648543, ('SAP', 'ASML'): 1.0511929013538648, ('SIEMENS', 'AIRBUS'): 0.8205285711557515, ('TOTAL', 'UNILEVER'): 0.40623135619686934})\n"
     ]
    }
   ],
   "source": [
    "print(gamma)"
   ]
  },
  {
   "cell_type": "code",
   "execution_count": 14,
   "metadata": {},
   "outputs": [
    {
     "name": "stdout",
     "output_type": "stream",
     "text": [
      "defaultdict(<class 'float'>, {('LVMH', 'ALLIANZ'): -0.11968252555949839, ('SAP', 'ASML'): -0.10897368609345703, ('SIEMENS', 'AIRBUS'): -0.05132599133393867, ('TOTAL', 'UNILEVER'): -0.02971746726142706})\n"
     ]
    }
   ],
   "source": [
    "print(alpha)"
   ]
  },
  {
   "cell_type": "code",
   "execution_count": 15,
   "metadata": {},
   "outputs": [
    {
     "name": "stderr",
     "output_type": "stream",
     "text": [
      "IOPub data rate exceeded.\n",
      "The notebook server will temporarily stop sending output\n",
      "to the client in order to avoid crashing it.\n",
      "To change this limit, set the config variable\n",
      "`--NotebookApp.iopub_data_rate_limit`.\n",
      "\n",
      "Current values:\n",
      "NotebookApp.iopub_data_rate_limit=1000000.0 (bytes/sec)\n",
      "NotebookApp.rate_limit_window=3.0 (secs)\n",
      "\n"
     ]
    }
   ],
   "source": [
    "print(z)"
   ]
  },
  {
   "cell_type": "code",
   "execution_count": null,
   "metadata": {},
   "outputs": [],
   "source": []
  },
  {
   "cell_type": "code",
   "execution_count": 16,
   "metadata": {},
   "outputs": [],
   "source": [
    "def get_latest_trade(id):\n",
    "    \"\"\"This get_latest_trade() function returns the latest tradetick of the stock \n",
    "    \n",
    "    Input:Name of a stock\n",
    "    Output:A tuple with the name of the stock and the last trade tick\n",
    "    \"\"\"\n",
    "    \n",
    "    trade=e.poll_new_trade_ticks(id)\n",
    "# if poll_new_trade_ticks was called too early and no other trades happened meantime, it will return an empty list #\n",
    "    if trade!=[]:\n",
    "        return trade[-1]\n",
    "    if trade==None:\n",
    "        return []\n",
    "\n",
    "\n"
   ]
  },
  {
   "cell_type": "code",
   "execution_count": null,
   "metadata": {},
   "outputs": [],
   "source": []
  },
  {
   "cell_type": "code",
   "execution_count": 17,
   "metadata": {},
   "outputs": [],
   "source": [
    "def get_price(id):\n",
    "    \"\"\"This get_price() function returns the price of the trade\n",
    "    \n",
    "    Input:The name of a stock\n",
    "    Output:The price of the stock at that moment\n",
    "    \"\"\"\n",
    "### we put in while in order not to return an empty list ###\n",
    "    while True:\n",
    "        trade = e.get_trade_tick_history(id)\n",
    "        if trade != []:\n",
    "            return trade[-1]\n",
    "    \n"
   ]
  },
  {
   "cell_type": "code",
   "execution_count": null,
   "metadata": {},
   "outputs": [],
   "source": []
  },
  {
   "cell_type": "code",
   "execution_count": 18,
   "metadata": {},
   "outputs": [],
   "source": [
    "def get_volume(trade):\n",
    "    \"\"\"This get_volume() function returns the volume of the trade\n",
    "    \n",
    "    Input:A trade of a stock\n",
    "    Output:The volume of the stock at that moment\n",
    "    \"\"\"\n",
    "    \n",
    "    if trade!=None:\n",
    "        return trade.volume\n",
    "    else:\n",
    "        return trade\n"
   ]
  },
  {
   "cell_type": "code",
   "execution_count": null,
   "metadata": {},
   "outputs": [],
   "source": []
  },
  {
   "cell_type": "code",
   "execution_count": 19,
   "metadata": {},
   "outputs": [],
   "source": [
    "def fair_price(pair,price2):\n",
    "    \"\"\"This fair_price() function returns the fair price of a stock translated to the others\n",
    "    \n",
    "    Input:The pair and the actual price of the first stock \n",
    "    Output:The fair price\n",
    "    \"\"\"\n",
    "    price1 = c[pair] + gamma[pair]*math.log(price2)\n",
    "    fair_price = math.exp(price1)\n",
    "    return fair_price\n",
    "\n"
   ]
  },
  {
   "cell_type": "code",
   "execution_count": null,
   "metadata": {},
   "outputs": [],
   "source": []
  },
  {
   "cell_type": "code",
   "execution_count": 20,
   "metadata": {},
   "outputs": [],
   "source": [
    "def ratio_of_volume(pair,price1,price2):\n",
    "    \"\"\"This ratio_of_volume() function returns the hedging ratio for the conversion of the volumes \n",
    "    \n",
    "    Input:Pair, price of stock1, and price of stock2\n",
    "    Output:The hedging ratio\n",
    "    \"\"\"\n",
    "    \n",
    "    return (gamma[pair]*(price1/price2))\n",
    "\n"
   ]
  },
  {
   "cell_type": "code",
   "execution_count": 21,
   "metadata": {},
   "outputs": [],
   "source": [
    "def update_trade_list(trade_list):\n",
    "    result = trade_list\n",
    "    for trade in trade_list:\n",
    "        if trade != None:\n",
    "            last_trade = get_latest_trade(trade.instrument_id)\n",
    "            if last_trade != None:\n",
    "                result.remove(trade)\n",
    "                result.append(last_trade)\n",
    "    return result\n",
    "\n",
    "def name_price(trade_list):\n",
    "    dict = {}\n",
    "    for stock in trade_list:\n",
    "        dict[stock.instrument_id] = stock.price\n",
    "    return dict\n",
    "\n",
    "def check_limit(instrument_id, volume, side_of_trade):\n",
    "    #check if volume>800 limit\n",
    "    if volume>800:\n",
    "        volume=800\n",
    "    \n",
    "    pos=e.get_positions()\n",
    "    \n",
    "    #check if there is already a position for this instrument \n",
    "    if instrument_id not in pos.keys():\n",
    "        if volume > 500:\n",
    "            volume=500\n",
    "        \n",
    "    else:\n",
    "        for p in pos:\n",
    "            if p==instrument_id:\n",
    "                #if the trade is on ask side check negative 500 limit else check positive 500 limit\n",
    "                if side_of_trade=='ask':\n",
    "                    if pos[p]-volume<-500:\n",
    "                        volume = 500 - abs(pos[p])\n",
    "                    else:\n",
    "                        volume = 500 - abs(pos[p])\n",
    "                else:\n",
    "                    if pos[p]+volume>500:\n",
    "                        volume = 500 - abs(pos[p])\n",
    "                    else:\n",
    "                        volume = 500 - abs(pos[p])\n",
    "    return volume\n",
    "\n",
    "def best_bid(pb):\n",
    "    if not pb.bids:\n",
    "        return None\n",
    "\n",
    "    best_bid = max(pb.bids, key=lambda x: x.price)\n",
    "    return best_bid\n",
    "\n",
    "def best_ask(pb):\n",
    "    if not pb.asks:\n",
    "        return None\n",
    "\n",
    "    best_ask = min(pb.asks, key=lambda x: x.price)\n",
    "    return best_ask"
   ]
  }
 ],
 "metadata": {
  "kernelspec": {
   "display_name": "Python 3",
   "language": "python",
   "name": "python3"
  },
  "language_info": {
   "codemirror_mode": {
    "name": "ipython",
    "version": 3
   },
   "file_extension": ".py",
   "mimetype": "text/x-python",
   "name": "python",
   "nbconvert_exporter": "python",
   "pygments_lexer": "ipython3",
   "version": "3.7.4"
  }
 },
 "nbformat": 4,
 "nbformat_minor": 2
}
